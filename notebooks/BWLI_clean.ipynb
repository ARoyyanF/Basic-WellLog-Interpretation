{
 "cells": [
  {
   "cell_type": "code",
   "execution_count": null,
   "id": "78e13bc6",
   "metadata": {},
   "outputs": [],
   "source": [
    "# Plotting and Data Manipulation\n",
    "from matplotlib import gridspec\n",
    "import pandas as pd\n",
    "import numpy as np\n",
    "import matplotlib.pyplot as plt\n",
    "\n",
    "# Other\n",
    "from pdf2image import convert_from_path\n",
    "from IPython.display import display\n",
    "import importlib"
   ]
  },
  {
   "cell_type": "code",
   "execution_count": null,
   "id": "ad998082",
   "metadata": {},
   "outputs": [],
   "source": [
    "from pathlib import Path\n",
    "import sys\n",
    "\n",
    "parent_dir = str(Path().absolute().parent)\n",
    "sys.path.append(parent_dir)\n",
    "\n",
    "print(parent_dir)"
   ]
  },
  {
   "cell_type": "markdown",
   "id": "17531eab",
   "metadata": {},
   "source": [
    "# **1. Data Preparation**"
   ]
  },
  {
   "cell_type": "code",
   "execution_count": null,
   "id": "531fe00e",
   "metadata": {},
   "outputs": [],
   "source": [
    "from src.data_prep.read_las import read_las\n",
    "\n",
    "file_name = \"../data/raw/ll-4_wire_lima.las\"\n",
    "well_name = \"LL-4\"\n",
    "renamed_columns = {\n",
    "    \"DEPTH\": \"DEPT\",\n",
    "    \"RT\": \"DR\",\n",
    "    \"ILM\": \"MR\",\n",
    "    \"LLS\": \"SR\",\n",
    "    \"NPHI_CORR\": \"NPHI\",\n",
    "}  # {nama_asli : nama_baru, ... , dst}\n",
    "columns = [\n",
    "    \"DEPT\",\n",
    "    \"GR\",\n",
    "    \"CALI\",\n",
    "    \"MR\",\n",
    "    \"DR\",\n",
    "    \"SR\",\n",
    "    \"NPHI\",\n",
    "    \"RHOB\",\n",
    "    \"DT\",\n",
    "    \"SP\",\n",
    "    \"VSH\",\n",
    "    \"RW\",\n",
    "    \"WELL\",\n",
    "]\n",
    "\n",
    "data = read_las(file_name, well_name, renamed_columns, columns, keep_original=False)"
   ]
  },
  {
   "cell_type": "code",
   "execution_count": null,
   "id": "2f71b4a6",
   "metadata": {},
   "outputs": [],
   "source": [
    "data.describe()"
   ]
  },
  {
   "cell_type": "markdown",
   "id": "bd6a74aa",
   "metadata": {},
   "source": [
    "# **2. Data Distribution Plot**"
   ]
  },
  {
   "cell_type": "code",
   "execution_count": null,
   "id": "5f62eb09",
   "metadata": {},
   "outputs": [],
   "source": [
    "columns_to_plot = [\"GR\", \"DR\", \"SR\", \"NPHI\", \"RHOB\", \"VSH\", \"RW\"]\n",
    "columns_unit = [\"API\", \"ohm/m\", \"ohm.m\", \"v/v\", \"g/cm³\", \"v/v\", \"ohm\"]"
   ]
  },
  {
   "cell_type": "code",
   "execution_count": null,
   "id": "f1b76328",
   "metadata": {},
   "outputs": [],
   "source": [
    "from src.data_vis.distPlot import boxplot, histplot, densityplot\n",
    "\n",
    "histplot(\n",
    "    data,\n",
    "    columns_to_plot,\n",
    "    columns_unit,\n",
    "    depth_start=data.DEPT.min(),\n",
    "    depth_end=data.DEPT.max(),\n",
    "    axes=(4, 4),\n",
    "    fig_size=(15, 15),\n",
    ")"
   ]
  },
  {
   "cell_type": "markdown",
   "id": "44a12ba4",
   "metadata": {},
   "source": [
    "# *3 Data Visualizations*"
   ]
  },
  {
   "cell_type": "code",
   "execution_count": null,
   "id": "2a9ce188",
   "metadata": {},
   "outputs": [],
   "source": [
    "# Data Corrections\n",
    "data[\"NPHI_corr\"] = data[\"NPHI\"] - 0.04"
   ]
  },
  {
   "cell_type": "code",
   "execution_count": null,
   "id": "18937d2e",
   "metadata": {},
   "outputs": [],
   "source": [
    "# display completion log\n",
    "data_completion = convert_from_path(\n",
    "    \"../data/raw/LLB-10 Completion Log.pdf\", first_page=20, last_page=20\n",
    ")\n",
    "display(data_completion[0])"
   ]
  },
  {
   "cell_type": "code",
   "execution_count": null,
   "id": "9cbca779",
   "metadata": {},
   "outputs": [],
   "source": [
    "from src.data_vis.comboPlot import combo_plot\n",
    "\n",
    "# Uncomment the selected_data.DEPT.min()/max() to plot for full depths\n",
    "depth_start = 2350  # selected_data.DEPT.min()\n",
    "depth_end = 3000  # selected_data.DEPT.max()\n",
    "formations = (\n",
    "    \"Torok\",\n",
    "    \"Pebble SH\",\n",
    "    \"Walakpa SS\",\n",
    "    \"J-Klingak\",\n",
    "    \"Barrow SS\",\n",
    "    \"Klingak SH\",\n",
    "    \"T-Sag River SS\",\n",
    "    \"Shublik\",\n",
    "    \"Basement\",\n",
    ")\n",
    "formation_depths = (100, 1701, 2071, 2200, 3102, 3224, 3258, 3633)\n",
    "# DISPLAYS LOG DATA FROM THE END TO THE BOTTOM (MENTAHAN)\n",
    "combo_plot(\n",
    "    data,\n",
    "    depth_start,\n",
    "    depth_end,\n",
    "    formations,\n",
    "    formation_depths,\n",
    "    figure_height=10,\n",
    "    suptitleadjust=1.05,\n",
    "    traject1={\n",
    "        \"data\": [\"GR\"],\n",
    "        \"intervals\": [(0, 100)],\n",
    "        \"scales\": [\"linear\"],\n",
    "        \"labels\": [\"GR[api]\"],\n",
    "        \"positions\": [0],\n",
    "        \"colors\": [\"green\"],\n",
    "    },\n",
    "    traject2={\n",
    "        \"data\": [\"DR\", \"MR\", \"SR\"],\n",
    "        \"intervals\": [(0.1, 10), (0.1, 10), (0.01, 1)],\n",
    "        \"scales\": [\"log\", \"log\", \"log\"],\n",
    "        \"labels\": [\"DR[ohm.m]\", \"MR[ohm.m]\", \"SR[ohm.m]\"],\n",
    "        \"positions\": [80, 40, 0],\n",
    "        \"colors\": [\"black\", \"purple\", \"red\"],\n",
    "    },\n",
    "    traject3={\n",
    "        \"data\": [\"RHOB\", \"NPHI\"],\n",
    "        \"intervals\": [(0, 2.75), (1, -0.15)],\n",
    "        \"scales\": [\"linear\", \"linear\"],\n",
    "        \"labels\": [\"RHOB[api]\", \"NPHI[unit]\"],\n",
    "        \"positions\": [0, 40],\n",
    "        \"colors\": [\"blue\", \"red\"],\n",
    "    },\n",
    ")"
   ]
  },
  {
   "cell_type": "code",
   "execution_count": null,
   "id": "d5f611d5",
   "metadata": {},
   "outputs": [],
   "source": [
    "from src.data_vis.comboPlot import custom_plot\n",
    "\n",
    "custom_data = [\"GR\", \"DR\", \"MR\", \"RHOB\", \"NPHI\", \"VSH\", \"RW\"]\n",
    "units = [\"api\", \"m.ohm\", \"ohm.m\", \"g/cc\", \"%\", \"v/v\", \"ohm\"]\n",
    "res_range = [0.1, 1]\n",
    "res_scale = \"linear\"\n",
    "custom_plot(data, depth_start, depth_end, custom_data, units, res_range, res_scale)"
   ]
  },
  {
   "cell_type": "markdown",
   "id": "520de48c",
   "metadata": {},
   "source": [
    "# **4. Data Selection and Calculations**"
   ]
  },
  {
   "cell_type": "code",
   "execution_count": null,
   "id": "631b3d58",
   "metadata": {},
   "outputs": [],
   "source": [
    "# Create a copy of the data for selected well\n",
    "calculation_data = data[data[\"WELL\"] == well_name].copy()\n",
    "\n",
    "calculation_data.describe()"
   ]
  },
  {
   "cell_type": "markdown",
   "id": "1abc0c4b",
   "metadata": {},
   "source": [
    "## **5. CLAY VOLUME CALCULATION**"
   ]
  },
  {
   "cell_type": "markdown",
   "id": "11174e33",
   "metadata": {},
   "source": [
    "## **Define Logs Variable for Calculations**"
   ]
  },
  {
   "cell_type": "markdown",
   "id": "6302c939",
   "metadata": {},
   "source": [
    "#### **Define the Clean and Clay Paramater**\n",
    "- Minimum (clean) and maximum (clay) values of GR for both\n",
    "- Minimum (clean) and maximum (clay) values of SP for both\n",
    "- Minimum (clean) and maximum (clay) values of RT for both\n",
    "#\n",
    "To start with, simply guess any numbers. Then, refer to the crossplot results in nphi vs rhob plot"
   ]
  },
  {
   "cell_type": "code",
   "execution_count": null,
   "id": "6f8a26a4",
   "metadata": {},
   "outputs": [],
   "source": [
    "columns_list = [\"GR\", \"DR\", \"NPHI\"]\n",
    "the_units = [\"unit\" for i in range(len(columns_list))]\n",
    "\n",
    "histplot(calculation_data, columns_list, the_units, depth_start=2350, depth_end=3000)"
   ]
  },
  {
   "cell_type": "code",
   "execution_count": null,
   "id": "1339a1bf",
   "metadata": {},
   "outputs": [],
   "source": [
    "# Clean point 1 (typical for a dense, clean rock like limestone)\n",
    "neut_clean1 = 0.1  # NPHI of 0.1 (low porosity)\n",
    "den_clean1 = 2.45  # RHOB of 2.45 g/cc (dense rock)\n",
    "\n",
    "# Clean point 2 (moderate porosity, consolidated formation)\n",
    "neut_clean2 = 0.25  # NPHI of 0.25 (moderate porosity)\n",
    "den_clean2 = 2.0  # RHOB of 2.0 g/cc (consolidated, possibly sandstone)\n",
    "\n",
    "# Clay point (high density, low porosity)\n",
    "neut_clay = 0.05  # NPHI of 0.05 (low porosity, more clay)\n",
    "den_clay = 2.65  # RHOB of 2.65 g/cc (typical for clay-rich formations)\n",
    "\n",
    "# sand and shale baseline\n",
    "gr_clean, gr_clay = 40, 110\n",
    "rt_clean, rt_clay = 1.8, 1.6"
   ]
  },
  {
   "cell_type": "code",
   "execution_count": null,
   "id": "d17b0da0",
   "metadata": {},
   "outputs": [],
   "source": [
    "from src.data_vis.helperFunc import nd_crossplot\n",
    "\n",
    "filter_data = calculation_data[\n",
    "    (calculation_data.DEPT >= depth_start) & (calculation_data.DEPT <= depth_end)\n",
    "].copy()\n",
    "fig = plt.figure(figsize=(12, 10))\n",
    "gs = gridspec.GridSpec(1, 1)\n",
    "ax = fig.add_subplot(gs[:])\n",
    "nd_crossplot(\n",
    "    filter_data,\n",
    "    ax,\n",
    "    fontsize=10,\n",
    "    clean_point1=[neut_clean1, den_clean1],\n",
    "    clean_point2=[neut_clean2, den_clean2],\n",
    "    clay_point=[neut_clay, den_clay],\n",
    "    nphi_axis=[0, 1],\n",
    "    rhob_axis=[2, 2.75],\n",
    ")"
   ]
  },
  {
   "cell_type": "code",
   "execution_count": null,
   "id": "6fb98049",
   "metadata": {},
   "outputs": [],
   "source": [
    "from src.data_calc.vclCalc import vclrt, vclgr, vclnd, vclsp\n",
    "\n",
    "calculation_data[\"VCLGR\"] = vclgr(data.GR, gr_clean, gr_clay, correction=\"older\")\n",
    "calculation_data[\"VCLRT\"] = vclrt(data.DR, rt_clean, rt_clay)\n",
    "calculation_data[\"VCLND\"] = vclnd(\n",
    "    data.NPHI,\n",
    "    data.RHOB,\n",
    "    neut_clean1,\n",
    "    den_clean1,\n",
    "    neut_clean2,\n",
    "    den_clean2,\n",
    "    neut_clay,\n",
    "    den_clay,\n",
    ")"
   ]
  },
  {
   "cell_type": "code",
   "execution_count": null,
   "id": "28ade60c",
   "metadata": {},
   "outputs": [],
   "source": [
    "from src.data_vis.vclPlot import vcl_plot\n",
    "\n",
    "vcl_plot(\n",
    "    calculation_data,\n",
    "    depth_start=depth_start,\n",
    "    depth_end=depth_end,\n",
    "    traject1={\n",
    "        \"data\": [\"GR\", \"DR\"],\n",
    "        \"intervals\": [(0, 100), (0.1, 10)],\n",
    "        \"scales\": [\"linear\", \"log\"],\n",
    "        \"labels\": [\"GR[api]\", \"DR[ohm.m]\"],\n",
    "        \"colors\": [\"green\", \"purple\"],\n",
    "    },\n",
    "    traject2={\n",
    "        \"data\": [\"GR\", \"DR\"],\n",
    "        \"scales\": [\"linear\", \"linear\"],\n",
    "        \"labels\": [\"GR[api]\", \"DR[ohm.m]\"],\n",
    "        \"colors\": [\"green\", \"purple\"],\n",
    "    },\n",
    "    traject3={\n",
    "        \"data\": [\"VCLRT\", \"VCLND\", \"VCLGR\"],\n",
    "        \"labels\": [\"VCLRT[v.v]\", \"VCLND[v.v]\", \"VCLGR[v.v]\"],\n",
    "        \"colors\": [\"green\", \"red\", \"blue\"],\n",
    "    },\n",
    "    clean_point1=[neut_clean1, den_clean1],\n",
    "    clean_point2=[neut_clean2, den_clean2],\n",
    "    clay_point=[neut_clay, den_clay],\n",
    "    rhob_axis=[2, 2.75],\n",
    "    nphi_axis=[0, 1],\n",
    ")"
   ]
  },
  {
   "cell_type": "code",
   "execution_count": null,
   "id": "74878314",
   "metadata": {},
   "outputs": [],
   "source": [
    "custom_data = [\"VCLGR\", \"VCLND\", \"VCLRT\"]\n",
    "units = [\"v.v\" for i in range(len(custom_data))]\n",
    "custom_plot(calculation_data, depth_start, depth_end, custom_data, units)"
   ]
  },
  {
   "cell_type": "code",
   "execution_count": null,
   "id": "2835839a",
   "metadata": {},
   "outputs": [],
   "source": [
    "calculation_data[\"VCL\"] = calculation_data[\"VCLRT\"]"
   ]
  },
  {
   "cell_type": "markdown",
   "id": "f878d20e",
   "metadata": {},
   "source": [
    "## **6. POROSITY CALCULATION**\n",
    "There are three types of logs that can be used to estimate porosity: sonic, density, and neutron logs. Porosity can be determined using either individual or paired combinations of these logs. The possible combinations include neutron-density, neutron-sonic, and sonic-density.<br>\n",
    "**Basic porosity formulas are:**\n",
    "- Sonic:\n",
    "    - Wyllie (Time Average)\n",
    "    - Raymer-Hunt-Gardner\n",
    "- Density\n",
    "- Neutronic<br>"
   ]
  },
  {
   "cell_type": "markdown",
   "id": "cf3ddd8f",
   "metadata": {},
   "source": [
    "## **Define the Parameter for Porosity Calculations**"
   ]
  },
  {
   "cell_type": "code",
   "execution_count": null,
   "id": "8c6de712",
   "metadata": {},
   "outputs": [],
   "source": [
    "from src.data_calc.poroCalc import phis_shale\n",
    "\n",
    "# Matrix, fluid and appropiate shales values must be declared in the next variables:\n",
    "dt_ma, dt_fl, dt_sh, cp, alpha = 55.5, 188.0, 90.0, 1, 5 / 8\n",
    "den_ma = 2.24\n",
    "den_fl = 0.1\n",
    "den_sh = den_clay\n",
    "\n",
    "phis_sh = phis_shale(dt_sh, dt_ma, dt_fl)\n",
    "phid_sh = phis_shale(den_sh, den_ma, den_fl)\n",
    "phin_sh = 45"
   ]
  },
  {
   "cell_type": "code",
   "execution_count": null,
   "id": "4a0d090c",
   "metadata": {},
   "outputs": [],
   "source": [
    "from src.data_calc.poroCalc import (\n",
    "    phis_w,\n",
    "    phis_w_sh_corr,\n",
    "    phis_rhg,\n",
    "    phis_rhg_sh_corr,\n",
    "    phid,\n",
    "    phid_sh_corr,\n",
    "    phi_simandoux,\n",
    "    phin_sh_corr,\n",
    "    phixnd,\n",
    ")\n",
    "\n",
    "# # 1. Poro calc with DT\n",
    "calculation_data[\"PHISw\"] = phis_w(data.DT, dt_ma, dt_fl, cp)\n",
    "calculation_data[\"PHISwshc\"] = phis_w_sh_corr(\n",
    "    data.DT, dt_ma, dt_fl, cp, dt_sh, calculation_data.VCL\n",
    ").clip(0, 1)\n",
    "\n",
    "calculation_data[\"PHISrhg\"] = phis_rhg(data.DT, dt_ma, alpha)\n",
    "calculation_data[\"PHISrhgshc\"] = phis_rhg_sh_corr(\n",
    "    data.DT, dt_ma, dt_sh, calculation_data.VCL, alpha, dt_fl\n",
    ").clip(0, 1)\n",
    "\n",
    "# # 2. Poro calc with RHOB\n",
    "calculation_data[\"PHID\"] = phid(data.RHOB, den_ma, den_fl, new=True)\n",
    "calculation_data[\"PHIDshc\"] = phid_sh_corr(\n",
    "    data.RHOB, den_ma, den_fl, den_sh, calculation_data.VCL\n",
    ").clip(0, 1)\n",
    "\n",
    "# # 3. Poro calc for Simandoux using VSH param\n",
    "calculation_data[\"PHI_SIMANDOUX\"] = phi_simandoux(data.VSH, calculation_data.PHID).clip(\n",
    "    0, 1\n",
    ")\n",
    "\n",
    "# # 4. Poro calc with NPHIN (Dual-method)\n",
    "calculation_data[\"PHIN\"] = (data.NPHI / 100).clip(0, 1)\n",
    "calculation_data[\"PHINshc\"] = phin_sh_corr(\n",
    "    data.NPHI, phin_sh, calculation_data.VCL\n",
    ").clip(0, 1)\n",
    "\n",
    "calculation_data[\"PHIxND\"] = phixnd(\n",
    "    calculation_data.PHINshc, calculation_data.PHIDshc\n",
    ").clip(0, 1)"
   ]
  },
  {
   "cell_type": "code",
   "execution_count": null,
   "id": "ce3d5859",
   "metadata": {},
   "outputs": [],
   "source": [
    "# Example usage:\n",
    "custom_data = [\"PHIN\", \"PHID\", \"PHIxND\", \"PHI_SIMANDOUX\"]\n",
    "units = [\"v.v\" for i in range(len(custom_data))]\n",
    "custom_plot(\n",
    "    calculation_data,\n",
    "    depth_start,\n",
    "    depth_end,\n",
    "    custom_data,\n",
    "    units,\n",
    ")"
   ]
  },
  {
   "cell_type": "code",
   "execution_count": null,
   "id": "3ce5224c",
   "metadata": {},
   "outputs": [],
   "source": [
    "calculation_data[\"PHIE\"] = calculation_data[\"PHID\"]"
   ]
  },
  {
   "cell_type": "markdown",
   "id": "e1cb7ce6",
   "metadata": {},
   "source": [
    "## **7. WATER SATURATION CALCULATION**\n",
    "Before calculating the water saturation will need a value for the Rw (Resistivity of water)<br>\n",
    "**Resistivity of water:**\n",
    "It can be determined from:\n",
    "- Ater catalogs <br>\n",
    "- DST test water analysis <br>\n",
    "- Rw from SP (needs information about Rmud and ... ) <br>\n",
    "- Rwa Method (Rw from a 100% water zone) <br>"
   ]
  },
  {
   "cell_type": "markdown",
   "id": "e24dcae9",
   "metadata": {},
   "source": [
    "### **7.1. Archie Water Sturation Equation**\n",
    "Suppose we lack any prior knowledge of Rwater. In such cases, following the best approach involves utilizing a PICKETT graph. This graph takes on a logarithmic form derived from Archie's equation:\n",
    "$Sw^{n} = \\frac{a \\times R_w}{R_t \\times \\phi^m}$"
   ]
  },
  {
   "cell_type": "markdown",
   "id": "759383af",
   "metadata": {},
   "source": [
    "## **Define the Parameters**\n",
    "Firstly, it's important to establish the values for the variables: a, m, and n. To initiate this process, you might consider beginning with the values (a=1, m=2, n=2), which tend to yield favorable results across various rock types. In cases where the rock matrix contains a mixture of shale, it might be advisable to reduce the value of m to 1.8.\n",
    "- a, turtuosity factor\n",
    "- m, cementation factor\n",
    "- n, saturation exponent\n",
    "- rwa, water resistivity\n",
    "- vcl_limit, volume of clay upper limit for selction of data for graph"
   ]
  },
  {
   "cell_type": "code",
   "execution_count": null,
   "id": "861c3b47",
   "metadata": {},
   "outputs": [],
   "source": [
    "a = 0.9\n",
    "m = 1\n",
    "n = 1.8"
   ]
  },
  {
   "cell_type": "markdown",
   "id": "179187c3",
   "metadata": {},
   "source": [
    "### **7.1.2. Choose the Water Resistivity**"
   ]
  },
  {
   "cell_type": "code",
   "execution_count": null,
   "id": "eff68fd5",
   "metadata": {},
   "outputs": [],
   "source": [
    "calculation_data_copy = calculation_data.copy()"
   ]
  },
  {
   "cell_type": "code",
   "execution_count": 36,
   "id": "c7b6cde7",
   "metadata": {},
   "outputs": [
    {
     "data": {
      "text/html": [
       "\n",
       "<style>\n",
       "  #altair-viz-60df510c8f8644a980a480d9823601cb.vega-embed {\n",
       "    width: 100%;\n",
       "    display: flex;\n",
       "  }\n",
       "\n",
       "  #altair-viz-60df510c8f8644a980a480d9823601cb.vega-embed details,\n",
       "  #altair-viz-60df510c8f8644a980a480d9823601cb.vega-embed details summary {\n",
       "    position: relative;\n",
       "  }\n",
       "</style>\n",
       "<div id=\"altair-viz-60df510c8f8644a980a480d9823601cb\"></div>\n",
       "<script type=\"text/javascript\">\n",
       "  var VEGA_DEBUG = (typeof VEGA_DEBUG == \"undefined\") ? {} : VEGA_DEBUG;\n",
       "  (function(spec, embedOpt){\n",
       "    let outputDiv = document.currentScript.previousElementSibling;\n",
       "    if (outputDiv.id !== \"altair-viz-60df510c8f8644a980a480d9823601cb\") {\n",
       "      outputDiv = document.getElementById(\"altair-viz-60df510c8f8644a980a480d9823601cb\");\n",
       "    }\n",
       "\n",
       "    const paths = {\n",
       "      \"vega\": \"https://cdn.jsdelivr.net/npm/vega@5?noext\",\n",
       "      \"vega-lib\": \"https://cdn.jsdelivr.net/npm/vega-lib?noext\",\n",
       "      \"vega-lite\": \"https://cdn.jsdelivr.net/npm/vega-lite@5.20.1?noext\",\n",
       "      \"vega-embed\": \"https://cdn.jsdelivr.net/npm/vega-embed@6?noext\",\n",
       "    };\n",
       "\n",
       "    function maybeLoadScript(lib, version) {\n",
       "      var key = `${lib.replace(\"-\", \"\")}_version`;\n",
       "      return (VEGA_DEBUG[key] == version) ?\n",
       "        Promise.resolve(paths[lib]) :\n",
       "        new Promise(function(resolve, reject) {\n",
       "          var s = document.createElement('script');\n",
       "          document.getElementsByTagName(\"head\")[0].appendChild(s);\n",
       "          s.async = true;\n",
       "          s.onload = () => {\n",
       "            VEGA_DEBUG[key] = version;\n",
       "            return resolve(paths[lib]);\n",
       "          };\n",
       "          s.onerror = () => reject(`Error loading script: ${paths[lib]}`);\n",
       "          s.src = paths[lib];\n",
       "        });\n",
       "    }\n",
       "\n",
       "    function showError(err) {\n",
       "      outputDiv.innerHTML = `<div class=\"error\" style=\"color:red;\">${err}</div>`;\n",
       "      throw err;\n",
       "    }\n",
       "\n",
       "    function displayChart(vegaEmbed) {\n",
       "      vegaEmbed(outputDiv, spec, embedOpt)\n",
       "        .catch(err => showError(`Javascript Error: ${err.message}<br>This usually means there's a typo in your chart specification. See the javascript console for the full traceback.`));\n",
       "    }\n",
       "\n",
       "    if(typeof define === \"function\" && define.amd) {\n",
       "      requirejs.config({paths});\n",
       "      let deps = [\"vega-embed\"];\n",
       "      require(deps, displayChart, err => showError(`Error loading script: ${err.message}`));\n",
       "    } else {\n",
       "      maybeLoadScript(\"vega\", \"5\")\n",
       "        .then(() => maybeLoadScript(\"vega-lite\", \"5.20.1\"))\n",
       "        .then(() => maybeLoadScript(\"vega-embed\", \"6\"))\n",
       "        .catch(showError)\n",
       "        .then(() => displayChart(vegaEmbed));\n",
       "    }\n",
       "  })({\"config\": {\"view\": {\"continuousWidth\": 300, \"continuousHeight\": 300}}, \"layer\": [{\"data\": {\"name\": \"data-e5920df202417fec3fe69f9506bf2eb2\"}, \"mark\": {\"type\": \"circle\", \"size\": 60}, \"encoding\": {\"color\": {\"field\": \"VCL\", \"scale\": {\"scheme\": \"plasma\"}, \"title\": \"VCL\", \"type\": \"quantitative\"}, \"tooltip\": [{\"field\": \"DEPT\", \"type\": \"quantitative\"}, {\"field\": \"DR\", \"type\": \"quantitative\"}, {\"field\": \"PHIE\", \"type\": \"quantitative\"}, {\"field\": \"VCL\", \"type\": \"quantitative\"}], \"x\": {\"field\": \"DR\", \"scale\": {\"domain\": [0.1, 1000], \"type\": \"log\"}, \"title\": \"DR [m.ohm]\", \"type\": \"quantitative\"}, \"y\": {\"field\": \"PHIE\", \"scale\": {\"domain\": [0.01, 1], \"type\": \"log\"}, \"title\": \"PHIE [v/v]\", \"type\": \"quantitative\"}}, \"title\": \"Pickett Plot and Rw = 0.12 ohm.m\"}, {\"layer\": [{\"layer\": [{\"data\": {\"name\": \"data-fbc1a61ee71cde79dc177c9b4c78da87\"}, \"mark\": {\"type\": \"line\", \"opacity\": 0.4}, \"encoding\": {\"color\": {\"value\": \"grey\"}, \"strokeDash\": {\"value\": [5, 5]}, \"x\": {\"field\": \"DR\", \"type\": \"quantitative\"}, \"y\": {\"field\": \"PHIE\", \"type\": \"quantitative\"}}, \"title\": \"SW 100%\", \"transform\": [{\"calculate\": \"'SW 100%'\", \"as\": \"SW_label\"}]}, {\"data\": {\"name\": \"data-83afc133833c73d2775c3a66d3886d6e\"}, \"mark\": {\"type\": \"text\", \"align\": \"left\", \"baseline\": \"middle\", \"dx\": -20, \"dy\": -15}, \"encoding\": {\"color\": {\"value\": \"green\"}, \"text\": {\"value\": \"SW 100%\"}, \"x\": {\"field\": \"DR\", \"type\": \"quantitative\"}, \"y\": {\"field\": \"PHIE\", \"type\": \"quantitative\"}}}]}, {\"layer\": [{\"data\": {\"name\": \"data-7f00348e31915238499a48b481a5212e\"}, \"mark\": {\"type\": \"line\", \"opacity\": 0.4}, \"encoding\": {\"color\": {\"value\": \"grey\"}, \"strokeDash\": {\"value\": [5, 5]}, \"x\": {\"field\": \"DR\", \"type\": \"quantitative\"}, \"y\": {\"field\": \"PHIE\", \"type\": \"quantitative\"}}, \"title\": \"SW 80%\", \"transform\": [{\"calculate\": \"'SW 80%'\", \"as\": \"SW_label\"}]}, {\"data\": {\"name\": \"data-8e834cbc588910f5108cbba891cc118b\"}, \"mark\": {\"type\": \"text\", \"align\": \"left\", \"baseline\": \"middle\", \"dx\": -20, \"dy\": -35}, \"encoding\": {\"color\": {\"value\": \"green\"}, \"text\": {\"value\": \"SW 80%\"}, \"x\": {\"field\": \"DR\", \"type\": \"quantitative\"}, \"y\": {\"field\": \"PHIE\", \"type\": \"quantitative\"}}}]}, {\"layer\": [{\"data\": {\"name\": \"data-f7b871e06ce5bda56b49aaf128d3bcd3\"}, \"mark\": {\"type\": \"line\", \"opacity\": 0.4}, \"encoding\": {\"color\": {\"value\": \"grey\"}, \"strokeDash\": {\"value\": [5, 5]}, \"x\": {\"field\": \"DR\", \"type\": \"quantitative\"}, \"y\": {\"field\": \"PHIE\", \"type\": \"quantitative\"}}, \"title\": \"SW 60%\", \"transform\": [{\"calculate\": \"'SW 60%'\", \"as\": \"SW_label\"}]}, {\"data\": {\"name\": \"data-379b5747ceec395fca76e25ee2608ad0\"}, \"mark\": {\"type\": \"text\", \"align\": \"left\", \"baseline\": \"middle\", \"dx\": -20, \"dy\": -15}, \"encoding\": {\"color\": {\"value\": \"green\"}, \"text\": {\"value\": \"SW 60%\"}, \"x\": {\"field\": \"DR\", \"type\": \"quantitative\"}, \"y\": {\"field\": \"PHIE\", \"type\": \"quantitative\"}}}]}, {\"layer\": [{\"data\": {\"name\": \"data-47382a7f3c816efe5978b6327717095e\"}, \"mark\": {\"type\": \"line\", \"opacity\": 0.4}, \"encoding\": {\"color\": {\"value\": \"grey\"}, \"strokeDash\": {\"value\": [5, 5]}, \"x\": {\"field\": \"DR\", \"type\": \"quantitative\"}, \"y\": {\"field\": \"PHIE\", \"type\": \"quantitative\"}}, \"title\": \"SW 40%\", \"transform\": [{\"calculate\": \"'SW 40%'\", \"as\": \"SW_label\"}]}, {\"data\": {\"name\": \"data-a7e18e1ebfff30cd22a38d9e0ea67996\"}, \"mark\": {\"type\": \"text\", \"align\": \"left\", \"baseline\": \"middle\", \"dx\": -20, \"dy\": -35}, \"encoding\": {\"color\": {\"value\": \"green\"}, \"text\": {\"value\": \"SW 40%\"}, \"x\": {\"field\": \"DR\", \"type\": \"quantitative\"}, \"y\": {\"field\": \"PHIE\", \"type\": \"quantitative\"}}}]}, {\"layer\": [{\"data\": {\"name\": \"data-b542ae99b8e90ee25ca37c424956903b\"}, \"mark\": {\"type\": \"line\", \"opacity\": 0.4}, \"encoding\": {\"color\": {\"value\": \"grey\"}, \"strokeDash\": {\"value\": [5, 5]}, \"x\": {\"field\": \"DR\", \"type\": \"quantitative\"}, \"y\": {\"field\": \"PHIE\", \"type\": \"quantitative\"}}, \"title\": \"SW 20%\", \"transform\": [{\"calculate\": \"'SW 20%'\", \"as\": \"SW_label\"}]}, {\"data\": {\"name\": \"data-b68a1e50fcee511e864a3fd316def36c\"}, \"mark\": {\"type\": \"text\", \"align\": \"left\", \"baseline\": \"middle\", \"dx\": -20, \"dy\": -15}, \"encoding\": {\"color\": {\"value\": \"green\"}, \"text\": {\"value\": \"SW 20%\"}, \"x\": {\"field\": \"DR\", \"type\": \"quantitative\"}, \"y\": {\"field\": \"PHIE\", \"type\": \"quantitative\"}}}]}]}], \"height\": 400, \"width\": 400, \"$schema\": \"https://vega.github.io/schema/vega-lite/v5.20.1.json\", \"datasets\": {\"data-e5920df202417fec3fe69f9506bf2eb2\": [{\"WELL\": \"LL-4\", \"DEPT\": 2433.0, \"GR\": 90.9219, \"CALI\": 14.09, \"MR\": 0.4074, \"DR\": 2.24, \"SR\": null, \"NPHI\": 0.5605, \"RHOB\": 2.0919, \"DT\": 153.176, \"SP\": 109.1, \"VSH\": 1.0, \"RW\": 0.115435, \"NPHI_corr\": 0.5205, \"VCLGR\": 0.5746611096896198, \"VCLRT\": -1.5714285714285723, \"VCLND\": 20.468000000000153, \"VCL\": -1.5714285714285723, \"PHISw\": 0.737177358490566, \"PHISwshc\": 1.0, \"PHISrhg\": 0.3985448111975766, \"PHISrhgshc\": 0.8077092316827521, \"PHID\": 0.06920560747663566, \"PHIDshc\": 0.0, \"PHI_SIMANDOUX\": 0.7087980728339384, \"PHIN\": 0.005605, \"PHINshc\": 0.7127478571428576, \"PHIxND\": 0.3563739285714288, \"PHIE\": 0.06920560747663566}, {\"WELL\": \"LL-4\", \"DEPT\": 2444.0, \"GR\": 32.5733, \"CALI\": 12.66, \"MR\": 2.5586, \"DR\": 3.05, \"SR\": null, \"NPHI\": 0.3697, \"RHOB\": 1.97, \"DT\": 158.428, \"SP\": 107.8, \"VSH\": 0.1502, \"RW\": 0.115207, \"NPHI_corr\": 0.3297, \"VCLGR\": -0.04513574629605924, \"VCLRT\": -3.2786885245901645, \"VCLND\": 6.582000000000045, \"VCL\": -3.2786885245901645, \"PHISw\": 0.7768150943396226, \"PHISwshc\": 1.0, \"PHISrhg\": 0.4060519605120307, \"PHISrhgshc\": 1.0, \"PHID\": 0.12616822429906552, \"PHIDshc\": 0.0, \"PHI_SIMANDOUX\": 0.13870555292197084, \"PHIN\": 0.0036969999999999998, \"PHINshc\": 1.0, \"PHIxND\": 0.5, \"PHIE\": 0.12616822429906552}, {\"WELL\": \"LL-4\", \"DEPT\": 2444.5, \"GR\": 32.2447, \"CALI\": 12.66, \"MR\": 2.3335, \"DR\": 2.85, \"SR\": null, \"NPHI\": 0.367, \"RHOB\": 2.0269, \"DT\": 160.396, \"SP\": 106.2, \"VSH\": 0.1449, \"RW\": 0.115196, \"NPHI_corr\": 0.327, \"VCLGR\": -0.04698352763330648, \"VCLRT\": -2.947368421052632, \"VCLND\": 7.558000000000055, \"VCL\": -2.947368421052632, \"PHISw\": 0.7916679245283018, \"PHISwshc\": 1.0, \"PHISrhg\": 0.40873837252799317, \"PHISrhgshc\": 1.0, \"PHID\": 0.09957943925233657, \"PHIDshc\": 0.0, \"PHI_SIMANDOUX\": 0.124322312401696, \"PHIN\": 0.00367, \"PHINshc\": 1.0, \"PHIxND\": 0.5, \"PHIE\": 0.09957943925233657}, {\"WELL\": \"LL-4\", \"DEPT\": 2445.0, \"GR\": 31.7369, \"CALI\": 12.67, \"MR\": 2.1777, \"DR\": 2.7, \"SR\": null, \"NPHI\": 0.3509, \"RHOB\": 2.0782, \"DT\": 152.343, \"SP\": 104.6, \"VSH\": 0.1367, \"RW\": 0.115186, \"NPHI_corr\": 0.3109, \"VCLGR\": -0.049815440581317136, \"VCLRT\": -2.666666666666668, \"VCLND\": 7.618000000000053, \"VCL\": -2.666666666666668, \"PHISw\": 0.7308905660377357, \"PHISwshc\": 1.0, \"PHISrhg\": 0.3973065713554282, \"PHISrhgshc\": 1.0, \"PHID\": 0.07560747663551419, \"PHIDshc\": 0.0, \"PHI_SIMANDOUX\": 0.1104612613615964, \"PHIN\": 0.003509, \"PHINshc\": 1.0, \"PHIxND\": 0.5, \"PHIE\": 0.07560747663551419}, {\"WELL\": \"LL-4\", \"DEPT\": 2445.5, \"GR\": 32.2047, \"CALI\": 12.67, \"MR\": 2.0893, \"DR\": 2.58, \"SR\": null, \"NPHI\": 0.3397, \"RHOB\": 2.1154, \"DT\": 148.607, \"SP\": 105.2, \"VSH\": 0.1442, \"RW\": 0.115175, \"NPHI_corr\": 0.2997, \"VCLGR\": -0.04720763550730409, \"VCLRT\": -2.418604651162791, \"VCLND\": 7.69000000000006, \"VCL\": -2.418604651162791, \"PHISw\": 0.7026943396226415, \"PHISwshc\": 1.0, \"PHISrhg\": 0.3915823278849583, \"PHISrhgshc\": 1.0, \"PHID\": 0.05822429906542058, \"PHIDshc\": 0.0, \"PHI_SIMANDOUX\": 0.1099629687705355, \"PHIN\": 0.003397, \"PHINshc\": 1.0, \"PHIxND\": 0.5, \"PHIE\": 0.05822429906542058}, {\"WELL\": \"LL-4\", \"DEPT\": 2446.0, \"GR\": 33.988, \"CALI\": 12.67, \"MR\": 2.0417, \"DR\": 2.49, \"SR\": null, \"NPHI\": 0.3395, \"RHOB\": 2.1392, \"DT\": 152.372, \"SP\": 107.0, \"VSH\": 0.173, \"RW\": 0.115165, \"NPHI_corr\": 0.29950000000000004, \"VCLGR\": -0.037041847950905774, \"VCLRT\": -2.216867469879519, \"VCLND\": 8.154000000000064, \"VCL\": -2.216867469879519, \"PHISw\": 0.7311094339622642, \"PHISwshc\": 1.0, \"PHISrhg\": 0.3973499068070249, \"PHISrhgshc\": 0.9745720027379186, \"PHID\": 0.04710280373831775, \"PHIDshc\": 0.0, \"PHI_SIMANDOUX\": 0.1267826370604636, \"PHIN\": 0.0033950000000000004, \"PHINshc\": 1.0, \"PHIxND\": 0.5, \"PHIE\": 0.04710280373831775}, {\"WELL\": \"LL-4\", \"DEPT\": 2446.5, \"GR\": 36.0903, \"CALI\": 12.67, \"MR\": 2.0184, \"DR\": 2.44, \"SR\": null, \"NPHI\": 0.3415, \"RHOB\": 2.15, \"DT\": 147.741, \"SP\": 106.5, \"VSH\": 0.2069, \"RW\": 0.115155, \"NPHI_corr\": 0.30150000000000005, \"VCLGR\": -0.02458724599562984, \"VCLRT\": -2.0983606557377055, \"VCLND\": 8.49000000000006, \"VCL\": -2.0983606557377055, \"PHISw\": 0.6961584905660378, \"PHISwshc\": 1.0, \"PHISrhg\": 0.39021412471825695, \"PHISrhgshc\": 0.9365797294197726, \"PHID\": 0.04205607476635528, \"PHIDshc\": 0.0, \"PHI_SIMANDOUX\": 0.14929220245001623, \"PHIN\": 0.003415, \"PHINshc\": 0.9476772950819674, \"PHIxND\": 0.4738386475409837, \"PHIE\": 0.04205607476635528}, {\"WELL\": \"LL-4\", \"DEPT\": 2447.0, \"GR\": 37.4126, \"CALI\": 12.67, \"MR\": 1.9999, \"DR\": 2.43, \"SR\": null, \"NPHI\": 0.3467, \"RHOB\": 2.1536, \"DT\": 143.8, \"SP\": 107.6, \"VSH\": 0.2282, \"RW\": 0.115144, \"NPHI_corr\": 0.30670000000000003, \"VCLGR\": -0.016483730821555728, \"VCLRT\": -2.074074074074075, \"VCLND\": 8.874000000000063, \"VCL\": -2.074074074074075, \"PHISw\": 0.6664150943396228, \"PHISwshc\": 1.0, \"PHISrhg\": 0.3837795549374131, \"PHISrhgshc\": 0.9238214836585873, \"PHID\": 0.04037383177570105, \"PHIDshc\": 0.0, \"PHI_SIMANDOUX\": 0.16386776115553145, \"PHIN\": 0.003467, \"PHINshc\": 0.9368003333333337, \"PHIxND\": 0.46840016666666684, \"PHIE\": 0.04037383177570105}, {\"WELL\": \"LL-4\", \"DEPT\": 2447.5, \"GR\": 38.3482, \"CALI\": 12.67, \"MR\": 1.9861, \"DR\": 2.45, \"SR\": null, \"NPHI\": 0.3458, \"RHOB\": 2.1661, \"DT\": 144.141, \"SP\": 107.6, \"VSH\": 0.2433, \"RW\": 0.115134, \"NPHI_corr\": 0.3058, \"VCLGR\": -0.01062049441058618, \"VCLRT\": -2.1224489795918373, \"VCLND\": 9.070000000000068, \"VCL\": -2.1224489795918373, \"PHISw\": 0.6689886792452829, \"PHISwshc\": 1.0, \"PHISrhg\": 0.3843502195766645, \"PHISrhgshc\": 0.9369878784137844, \"PHID\": 0.034532710280373864, \"PHIDshc\": 0.0, \"PHI_SIMANDOUX\": 0.17376334204789604, \"PHIN\": 0.003458, \"PHINshc\": 0.9585600408163267, \"PHIxND\": 0.47928002040816337, \"PHIE\": 0.034532710280373864}, {\"WELL\": \"LL-4\", \"DEPT\": 2448.0, \"GR\": 39.8165, \"CALI\": 12.67, \"MR\": 1.977, \"DR\": 2.53, \"SR\": null, \"NPHI\": 0.3439, \"RHOB\": 2.1876, \"DT\": 146.439, \"SP\": 106.5, \"VSH\": 0.2669, \"RW\": 0.115124, \"NPHI_corr\": 0.3039, \"VCLGR\": -0.001197067211967703, \"VCLRT\": -2.3083003952569174, \"VCLND\": 9.38600000000007, \"VCL\": -2.3083003952569174, \"PHISw\": 0.686332075471698, \"PHISwshc\": 1.0, \"PHISrhg\": 0.38812662610370186, \"PHISrhgshc\": 0.9891557856234275, \"PHID\": 0.024485981308411214, \"PHIDshc\": 0.0, \"PHI_SIMANDOUX\": 0.18951935690139396, \"PHIN\": 0.0034389999999999998, \"PHINshc\": 1.0, \"PHIxND\": 0.5, \"PHIE\": 0.024485981308411214}, {\"WELL\": \"LL-4\", \"DEPT\": 2448.5, \"GR\": 41.6728, \"CALI\": 12.63, \"MR\": 1.98, \"DR\": 2.6167, \"SR\": null, \"NPHI\": 0.3391, \"RHOB\": 2.216, \"DT\": 151.115, \"SP\": 104.6, \"VSH\": 0.2968, \"RW\": 0.115113, \"NPHI_corr\": 0.29910000000000003, \"VCLGR\": 0.01111549974023942, \"VCLRT\": -2.496885389995032, \"VCLND\": 9.666000000000075, \"VCL\": -2.496885389995032, \"PHISw\": 0.721622641509434, \"PHISwshc\": 1.0, \"PHISrhg\": 0.395456275022334, \"PHISrhgshc\": 1.0, \"PHID\": 0.011214953271028047, \"PHIDshc\": 0.0, \"PHI_SIMANDOUX\": 0.210019064821353, \"PHIN\": 0.003391, \"PHINshc\": 1.0, \"PHIxND\": 0.5, \"PHIE\": 0.011214953271028047}, {\"WELL\": \"LL-4\", \"DEPT\": 2449.0, \"GR\": 42.9692, \"CALI\": 12.58, \"MR\": 1.9985, \"DR\": 2.72, \"SR\": null, \"NPHI\": 0.3402, \"RHOB\": 2.2415, \"DT\": 157.935, \"SP\": 104.6, \"VSH\": 0.3177, \"RW\": 0.115103, \"NPHI_corr\": 0.3002, \"VCLGR\": 0.019986751327918797, \"VCLRT\": -2.7058823529411775, \"VCLND\": 10.24200000000007, \"VCL\": -2.7058823529411775, \"PHISw\": 0.7730943396226415, \"PHISwshc\": 1.0, \"PHISrhg\": 0.4053685060309621, \"PHISrhgshc\": 1.0, \"PHID\": -0.0007009345794390713, \"PHIDshc\": 0.0, \"PHI_SIMANDOUX\": 0.22464837113730055, \"PHIN\": 0.003402, \"PHINshc\": 1.0, \"PHIxND\": 0.5, \"PHIE\": -0.0007009345794390713}, {\"WELL\": \"LL-4\", \"DEPT\": 2449.5, \"GR\": 43.4022, \"CALI\": 12.57, \"MR\": 2.0324, \"DR\": 2.84, \"SR\": null, \"NPHI\": 0.3456, \"RHOB\": 2.25, \"DT\": 161.668, \"SP\": 106.7, \"VSH\": 0.3247, \"RW\": 0.115093, \"NPHI_corr\": 0.30560000000000004, \"VCLGR\": 0.023000869905568613, \"VCLRT\": -2.9295774647887325, \"VCLND\": 10.736000000000077, \"VCL\": -2.9295774647887325, \"PHISw\": 0.801267924528302, \"PHISwshc\": 1.0, \"PHISrhg\": 0.41043991389761736, \"PHISrhgshc\": 1.0, \"PHID\": -0.004672897196261582, \"PHIDshc\": 0.0, \"PHI_SIMANDOUX\": 0.22962134696953462, \"PHIN\": 0.0034560000000000003, \"PHINshc\": 1.0, \"PHIxND\": 0.5, \"PHIE\": -0.004672897196261582}, {\"WELL\": \"LL-4\", \"DEPT\": 2450.0, \"GR\": 43.1433, \"CALI\": 12.57, \"MR\": 2.0832, \"DR\": 3.0133, \"SR\": null, \"NPHI\": 0.3579, \"RHOB\": 2.25, \"DT\": 161.564, \"SP\": 107.8, \"VSH\": 0.3205, \"RW\": 0.115082, \"NPHI_corr\": 0.3179, \"VCLGR\": 0.02119555762041516, \"VCLRT\": -3.221186075067203, \"VCLND\": 11.474000000000085, \"VCL\": -3.221186075067203, \"PHISw\": 0.8004830188679245, \"PHISwshc\": 1.0, \"PHISrhg\": 0.4103017999059196, \"PHISrhgshc\": 1.0, \"PHID\": -0.004672897196261582, \"PHIDshc\": 0.0, \"PHI_SIMANDOUX\": 0.22665181001726728, \"PHIN\": 0.003579, \"PHINshc\": 1.0, \"PHIxND\": 0.5, \"PHIE\": -0.004672897196261582}, {\"WELL\": \"LL-4\", \"DEPT\": 2458.5, \"GR\": 27.7502, \"CALI\": 12.92, \"MR\": 2.7658, \"DR\": 2.9246, \"SR\": null, \"NPHI\": 0.3442, \"RHOB\": 1.8688, \"DT\": 167.43, \"SP\": 108.3, \"VSH\": 0.0725, \"RW\": 0.114907, \"NPHI_corr\": 0.3042, \"VCLGR\": -0.07108622217978833, \"VCLRT\": -3.0762497435546745, \"VCLND\": 3.028000000000024, \"VCL\": -3.0762497435546745, \"PHISw\": 0.8447547169811321, \"PHISwshc\": 1.0, \"PHISrhg\": 0.4178238666905573, \"PHISrhgshc\": 1.0, \"PHID\": 0.17345794392523373, \"PHIDshc\": 0.0, \"PHI_SIMANDOUX\": 0.13293590243190423, \"PHIN\": 0.003442, \"PHINshc\": 1.0, \"PHIxND\": 0.5, \"PHIE\": 0.17345794392523373}, {\"WELL\": \"LL-4\", \"DEPT\": 2459.0, \"GR\": 25.4663, \"CALI\": 12.93, \"MR\": 2.2841, \"DR\": 2.58, \"SR\": null, \"NPHI\": 0.3365, \"RHOB\": 1.8981, \"DT\": 171.24, \"SP\": 107.6, \"VSH\": 0.0357, \"RW\": 0.114896, \"NPHI_corr\": 0.29650000000000004, \"VCLGR\": -0.08253620760748123, \"VCLRT\": -2.418604651162791, \"VCLND\": 3.1520000000000232, \"VCL\": -2.418604651162791, \"PHISw\": 0.8735094339622642, \"PHISwshc\": 1.0, \"PHISrhg\": 0.4224334267694464, \"PHISrhgshc\": 1.0, \"PHID\": 0.15976635514018706, \"PHIDshc\": 0.0, \"PHI_SIMANDOUX\": 0.11575789008698364, \"PHIN\": 0.0033650000000000004, \"PHINshc\": 1.0, \"PHIxND\": 0.5, \"PHIE\": 0.15976635514018706}, {\"WELL\": \"LL-4\", \"DEPT\": 2459.5, \"GR\": 24.0185, \"CALI\": 12.88, \"MR\": 1.982, \"DR\": 2.3493, \"SR\": null, \"NPHI\": 0.3337, \"RHOB\": 1.9187, \"DT\": 167.475, \"SP\": 106.3, \"VSH\": 0.0123, \"RW\": 0.114886, \"NPHI_corr\": 0.2937, \"VCLGR\": -0.08953086374891894, \"VCLRT\": -1.8705146213765804, \"VCLND\": 3.3960000000000266, \"VCL\": -1.8705146213765804, \"PHISw\": 0.8450943396226415, \"PHISwshc\": 1.0, \"PHISrhg\": 0.4178795342588446, \"PHISrhgshc\": 0.9049191903908599, \"PHID\": 0.1501401869158879, \"PHIDshc\": 0.0, \"PHI_SIMANDOUX\": 0.10652080953301508, \"PHIN\": 0.003337, \"PHINshc\": 0.8450685796194611, \"PHIxND\": 0.42253428980973057, \"PHIE\": 0.1501401869158879}, {\"WELL\": \"LL-4\", \"DEPT\": 2460.0, \"GR\": 23.1854, \"CALI\": 12.85, \"MR\": 1.8147, \"DR\": 2.2039, \"SR\": null, \"NPHI\": 0.3324, \"RHOB\": 1.9479, \"DT\": 155.097, \"SP\": 106.2, \"VSH\": 0.0, \"RW\": 0.114876, \"NPHI_corr\": 0.2924, \"VCLGR\": -0.09346578579853143, \"VCLRT\": -1.4661282272335405, \"VCLND\": 3.9020000000000254, \"VCL\": -1.4661282272335405, \"PHISw\": 0.7516754716981132, \"PHISwshc\": 1.0, \"PHISrhg\": 0.4013496392580127, \"PHISrhgshc\": 0.7830962342735384, \"PHID\": 0.13649532710280385, \"PHIDshc\": 0.0, \"PHI_SIMANDOUX\": 0.09651677139466855, \"PHIN\": 0.0033239999999999997, \"PHINshc\": 0.6630817022550933, \"PHIxND\": 0.33154085112754667, \"PHIE\": 0.13649532710280385}, {\"WELL\": \"LL-4\", \"DEPT\": 2460.5, \"GR\": 22.6768, \"CALI\": 12.84, \"MR\": 1.7441, \"DR\": 2.1238, \"SR\": null, \"NPHI\": 0.3355, \"RHOB\": 1.9778, \"DT\": 145.736, \"SP\": 106.7, \"VSH\": 0.0, \"RW\": 0.114865, \"NPHI_corr\": 0.29550000000000004, \"VCLGR\": -0.09583629900896144, \"VCLRT\": -1.2197005367737082, \"VCLND\": 4.686000000000037, \"VCL\": -1.2197005367737082, \"PHISw\": 0.6810264150943396, \"PHISwshc\": 0.9986088190090032, \"PHISrhg\": 0.38698399846297415, \"PHISrhgshc\": 0.7045664023776378, \"PHID\": 0.1225233644859814, \"PHIDshc\": 0.0, \"PHI_SIMANDOUX\": 0.08663710188182847, \"PHIN\": 0.0033550000000000003, \"PHINshc\": 0.5522202415481687, \"PHIxND\": 0.27611012077408437, \"PHIE\": 0.1225233644859814}, {\"WELL\": \"LL-4\", \"DEPT\": 2461.0, \"GR\": 22.4605, \"CALI\": 12.84, \"MR\": 1.7304, \"DR\": 2.1015, \"SR\": null, \"NPHI\": 0.3396, \"RHOB\": 2.0169, \"DT\": 139.709, \"SP\": 107.6, \"VSH\": 0.0, \"RW\": 0.114855, \"NPHI_corr\": 0.29960000000000003, \"VCLGR\": -0.09683722890038197, \"VCLRT\": -1.147751605995718, \"VCLND\": 5.714000000000044, \"VCL\": -1.147751605995718, \"PHISw\": 0.6355396226415094, \"PHISwshc\": 0.9343881540139793, \"PHISrhg\": 0.3767160669677687, \"PHISrhgshc\": 0.6755645983402387, \"PHID\": 0.10425233644859816, \"PHIDshc\": 0.0, \"PHI_SIMANDOUX\": 0.07371753405734523, \"PHIN\": 0.003396, \"PHINshc\": 0.5198842226980731, \"PHIxND\": 0.25994211134903655, \"PHIE\": 0.10425233644859816}, {\"WELL\": \"LL-4\", \"DEPT\": 2461.5, \"GR\": 22.45, \"CALI\": 12.83, \"MR\": 1.7708, \"DR\": 2.1277, \"SR\": null, \"NPHI\": 0.3354, \"RHOB\": 2.0568, \"DT\": 140.809, \"SP\": 108.4, \"VSH\": 0.0, \"RW\": 0.114845, \"NPHI_corr\": 0.2954, \"VCLGR\": -0.0968857086948821, \"VCLRT\": -1.2321285895567984, \"VCLND\": 6.260000000000042, \"VCL\": -1.2321285895567984, \"PHISw\": 0.6438415094339622, \"PHISwshc\": 0.9646598969034682, \"PHISrhg\": 0.37865566121483707, \"PHISrhgshc\": 0.699474048684343, \"PHID\": 0.08560747663551413, \"PHIDshc\": 0.0, \"PHI_SIMANDOUX\": 0.06053362724924097, \"PHIN\": 0.0033539999999999998, \"PHINshc\": 0.5578118653005593, \"PHIxND\": 0.27890593265027963, \"PHIE\": 0.08560747663551413}, {\"WELL\": \"LL-4\", \"DEPT\": 2462.0, \"GR\": 22.5129, \"CALI\": 12.83, \"MR\": 1.8535, \"DR\": 2.21, \"SR\": null, \"NPHI\": 0.3282, \"RHOB\": 2.0967, \"DT\": 142.061, \"SP\": 108.6, \"VSH\": 0.0, \"RW\": 0.114834, \"NPHI_corr\": 0.2882, \"VCLGR\": -0.09659514089409778, \"VCLRT\": -1.484162895927602, \"VCLND\": 6.626000000000043, \"VCL\": -1.484162895927602, \"PHISw\": 0.6532905660377359, \"PHISwshc\": 1.0, \"PHISrhg\": 0.38082672232350895, \"PHISrhgshc\": 0.7672691367348469, \"PHID\": 0.0669626168224301, \"PHIDshc\": 0.0, \"PHI_SIMANDOUX\": 0.04734972044113671, \"PHIN\": 0.0032819999999999998, \"PHINshc\": 0.671155303167421, \"PHIxND\": 0.3355776515837105, \"PHIE\": 0.0669626168224301}, {\"WELL\": \"LL-4\", \"DEPT\": 2462.5, \"GR\": 22.9136, \"CALI\": 12.83, \"MR\": 1.9621, \"DR\": 2.3284, \"SR\": null, \"NPHI\": 0.3256, \"RHOB\": 2.1274, \"DT\": 143.667, \"SP\": 108.5, \"VSH\": 0.0, \"RW\": 0.114824, \"NPHI_corr\": 0.2856, \"VCLGR\": -0.09473557756401862, \"VCLRT\": -1.8154956193093967, \"VCLND\": 7.084000000000056, \"VCL\": -1.8154956193093967, \"PHISw\": 0.665411320754717, \"PHISwshc\": 1.0, \"PHISrhg\": 0.3835562446490844, \"PHISrhgshc\": 0.8562701983560594, \"PHID\": 0.052616822429906555, \"PHIDshc\": 0.0, \"PHI_SIMANDOUX\": 0.03720571194467536, \"PHIN\": 0.003256, \"PHINshc\": 0.8202290286892284, \"PHIxND\": 0.4101145143446142, \"PHIE\": 0.052616822429906555}, {\"WELL\": \"LL-4\", \"DEPT\": 2463.0, \"GR\": 24.6629, \"CALI\": 12.72, \"MR\": 2.0685, \"DR\": 2.4454, \"SR\": null, \"NPHI\": 0.3275, \"RHOB\": 2.1573, \"DT\": 145.171, \"SP\": 107.7, \"VSH\": 0.0227, \"RW\": 0.114814, \"NPHI_corr\": 0.28750000000000003, \"VCLGR\": -0.08644237207329379, \"VCLRT\": -2.1113928191706877, \"VCLND\": 7.7960000000000615, \"VCL\": -2.1113928191706877, \"PHISw\": 0.6767622641509433, \"PHISwshc\": 1.0, \"PHISrhg\": 0.3860576492550165, \"PHISrhgshc\": 0.9358165342466295, \"PHID\": 0.03864485981308411, \"PHIDshc\": 0.0, \"PHI_SIMANDOUX\": 0.03169160133200059, \"PHIN\": 0.003275, \"PHINshc\": 0.9534017686268095, \"PHIxND\": 0.47670088431340474, \"PHIE\": 0.03864485981308411}, {\"WELL\": \"LL-4\", \"DEPT\": 2463.5, \"GR\": 27.1508, \"CALI\": 12.53, \"MR\": 2.1506, \"DR\": 2.5392, \"SR\": null, \"NPHI\": 0.3476, \"RHOB\": 2.1872, \"DT\": 143.736, \"SP\": 107.1, \"VSH\": 0.0628, \"RW\": 0.114803, \"NPHI_corr\": 0.30760000000000004, \"VCLGR\": -0.07414152450030419, \"VCLRT\": -2.3289224952741026, \"VCLND\": 9.600000000000065, \"VCL\": -2.3289224952741026, \"PHISw\": 0.6659320754716981, \"PHISwshc\": 1.0, \"PHISrhg\": 0.3836721489397228, \"PHISrhgshc\": 0.9900708363884514, \"PHID\": 0.024672897196261867, \"PHIDshc\": 0.0, \"PHI_SIMANDOUX\": 0.04771054315377947, \"PHIN\": 0.0034760000000000004, \"PHINshc\": 1.0, \"PHIxND\": 0.5, \"PHIE\": 0.024672897196261867}, {\"WELL\": \"LL-4\", \"DEPT\": 2464.0, \"GR\": 29.5246, \"CALI\": 12.53, \"MR\": 2.2006, \"DR\": 2.57, \"SR\": null, \"NPHI\": 0.3549, \"RHOB\": 2.2261, \"DT\": 145.579, \"SP\": 107.7, \"VSH\": 0.1011, \"RW\": 0.114793, \"NPHI_corr\": 0.3149, \"VCLGR\": -0.06182609113321389, \"VCLRT\": -2.3968871595330743, \"VCLND\": 10.816000000000082, \"VCL\": -2.3968871595330743, \"PHISw\": 0.6798415094339624, \"PHISwshc\": 1.0, \"PHISrhg\": 0.3867273095707485, \"PHISrhgshc\": 1.0, \"PHID\": 0.0064953271028037485, \"PHIDshc\": 0.0, \"PHI_SIMANDOUX\": 0.07163588232922247, \"PHIN\": 0.003549, \"PHINshc\": 1.0, \"PHIxND\": 0.5, \"PHIE\": 0.0064953271028037485}, {\"WELL\": \"LL-4\", \"DEPT\": 2464.5, \"GR\": 31.8022, \"CALI\": 12.53, \"MR\": 2.2182, \"DR\": 2.5661, \"SR\": null, \"NPHI\": 0.3458, \"RHOB\": 2.2569, \"DT\": 135.905, \"SP\": 107.1, \"VSH\": 0.1378, \"RW\": 0.114783, \"NPHI_corr\": 0.3058, \"VCLGR\": -0.049452867427341535, \"VCLRT\": -2.388371458633725, \"VCLND\": 10.886000000000076, \"VCL\": -2.388371458633725, \"PHISw\": 0.6068301886792453, \"PHISwshc\": 1.0, \"PHISrhg\": 0.3697665648798793, \"PHISrhgshc\": 0.9916444163731888, \"PHID\": -0.007897196261682098, \"PHIDshc\": 0.0, \"PHI_SIMANDOUX\": 0.09759919494748798, \"PHIN\": 0.003458, \"PHINshc\": 1.0, \"PHIxND\": 0.5, \"PHIE\": -0.007897196261682098}, {\"WELL\": \"LL-4\", \"DEPT\": 2465.0, \"GR\": 33.2807, \"CALI\": 12.62, \"MR\": 2.2111, \"DR\": 2.5369, \"SR\": null, \"NPHI\": 0.338, \"RHOB\": 2.2868, \"DT\": 114.686, \"SP\": 108.8, \"VSH\": 0.1616, \"RW\": 0.114773, \"NPHI_corr\": 0.29800000000000004, \"VCLGR\": -0.041116856457922554, \"VCLRT\": -2.3237809925499637, \"VCLND\": 11.01600000000008, \"VCL\": -2.3237809925499637, \"PHISw\": 0.4466867924528302, \"PHISwshc\": 1.0, \"PHISrhg\": 0.3225437280923566, \"PHISrhgshc\": 0.9276036846431019, \"PHID\": -0.021869158878504547, \"PHIDshc\": 0.0, \"PHI_SIMANDOUX\": 0.1153100605108966, \"PHIN\": 0.00338, \"PHINshc\": 1.0, \"PHIxND\": 0.5, \"PHIE\": -0.021869158878504547}, {\"WELL\": \"LL-4\", \"DEPT\": 2465.5, \"GR\": 33.7605, \"CALI\": 12.65, \"MR\": 2.1813, \"DR\": 2.4938, \"SR\": null, \"NPHI\": 0.3357, \"RHOB\": 2.3078, \"DT\": 104.945, \"SP\": 108.3, \"VSH\": 0.1693, \"RW\": 0.114762, \"NPHI_corr\": 0.2957, \"VCLGR\": -0.03835878927338684, \"VCLRT\": -2.2256796856203382, \"VCLND\": 11.298000000000078, \"VCL\": -2.2256796856203382, \"PHISw\": 0.37316981132075466, \"PHISwshc\": 0.9526864087086918, \"PHISrhg\": 0.29446972223545664, \"PHISrhgshc\": 0.8739863196233938, \"PHID\": -0.03168224299065404, \"PHIDshc\": 0.0, \"PHI_SIMANDOUX\": 0.12179132670457049, \"PHIN\": 0.003357, \"PHINshc\": 1.0, \"PHIxND\": 0.5, \"PHIE\": -0.03168224299065404}, {\"WELL\": \"LL-4\", \"DEPT\": 2466.0, \"GR\": 34.5113, \"CALI\": 12.66, \"MR\": 2.1414, \"DR\": 2.48, \"SR\": null, \"NPHI\": 0.3379, \"RHOB\": 2.3189, \"DT\": 104.2, \"SP\": 108.3, \"VSH\": 0.1814, \"RW\": 0.114752, \"NPHI_corr\": 0.2979, \"VCLGR\": -0.03398997748313109, \"VCLRT\": -2.193548387096775, \"VCLND\": 11.652000000000085, \"VCL\": -2.193548387096775, \"PHISw\": 0.3675471698113208, \"PHISwshc\": 0.9386975045648207, \"PHISrhg\": 0.29210652591170827, \"PHISrhgshc\": 0.8632568606652081, \"PHID\": -0.03686915887850466, \"PHIDshc\": 0.0, \"PHI_SIMANDOUX\": 0.13089173938107865, \"PHIN\": 0.0033789999999999996, \"PHINshc\": 0.9904757741935488, \"PHIxND\": 0.4952378870967744, \"PHIE\": -0.03686915887850466}, {\"WELL\": \"LL-4\", \"DEPT\": 2466.5, \"GR\": 36.0489, \"CALI\": 12.67, \"MR\": 2.1079, \"DR\": 2.48, \"SR\": null, \"NPHI\": 0.3434, \"RHOB\": 2.3288, \"DT\": 105.07, \"SP\": 108.3, \"VSH\": 0.2062, \"RW\": 0.114742, \"NPHI_corr\": 0.3034, \"VCLGR\": -0.024837549483543605, \"VCLRT\": -2.193548387096775, \"VCLND\": 12.18000000000009, \"VCL\": -2.193548387096775, \"PHISw\": 0.37411320754716976, \"PHISwshc\": 0.9452635423006697, \"PHISrhg\": 0.29486294851051675, \"PHISrhgshc\": 0.8660132832640166, \"PHID\": -0.04149532710280373, \"PHIDshc\": 0.0, \"PHI_SIMANDOUX\": 0.14872844746612646, \"PHIN\": 0.003434, \"PHINshc\": 0.9905307741935487, \"PHIxND\": 0.49526538709677437, \"PHIE\": -0.04149532710280373}, {\"WELL\": \"LL-4\", \"DEPT\": 2467.0, \"GR\": 36.8303, \"CALI\": 12.67, \"MR\": 2.0952, \"DR\": 2.4954, \"SR\": null, \"NPHI\": 0.3469, \"RHOB\": 2.33, \"DT\": 106.663, \"SP\": 108.0, \"VSH\": 0.2188, \"RW\": 0.114731, \"NPHI_corr\": 0.3069, \"VCLGR\": -0.020078430031237444, \"VCLRT\": -2.229382062995913, \"VCLND\": 12.41400000000009, \"VCL\": -2.229382062995913, \"PHISw\": 0.38613584905660375, \"PHISwshc\": 0.9666164616857282, \"PHISrhg\": 0.2997935085268556, \"PHISrhgshc\": 0.8802741211559801, \"PHID\": -0.04205607476635507, \"PHIDshc\": 0.0, \"PHI_SIMANDOUX\": 0.15754706189699832, \"PHIN\": 0.003469, \"PHINshc\": 1.0, \"PHIxND\": 0.5, \"PHIE\": -0.04205607476635507}, {\"WELL\": \"LL-4\", \"DEPT\": 2467.5, \"GR\": 36.4702, \"CALI\": 12.67, \"MR\": 2.1354, \"DR\": 2.5, \"SR\": null, \"NPHI\": 0.3442, \"RHOB\": 2.3212, \"DT\": 108.2, \"SP\": 106.6, \"VSH\": 0.213, \"RW\": 0.114721, \"NPHI_corr\": 0.3042, \"VCLGR\": -0.022280771606913028, \"VCLRT\": -2.24, \"VCLND\": 12.07600000000009, \"VCL\": -2.24, \"PHISw\": 0.3977358490566038, \"PHISwshc\": 0.9809811320754718, \"PHISrhg\": 0.30441312384473196, \"PHISrhgshc\": 0.8876584068636, \"PHID\": -0.03794392523364483, \"PHIDshc\": 0.0, \"PHI_SIMANDOUX\": 0.1529848709221543, \"PHIN\": 0.003442, \"PHINshc\": 1.0, \"PHIxND\": 0.5, \"PHIE\": -0.03794392523364483}, {\"WELL\": \"LL-4\", \"DEPT\": 2468.0, \"GR\": 36.0942, \"CALI\": 12.67, \"MR\": 2.2266, \"DR\": 2.4723, \"SR\": null, \"NPHI\": 0.3388, \"RHOB\": 2.32, \"DT\": 109.7, \"SP\": 106.6, \"VSH\": 0.2069, \"RW\": 0.114711, \"NPHI_corr\": 0.2988, \"VCLGR\": -0.024563656102972467, \"VCLRT\": -2.175464142701129, \"VCLND\": 11.728000000000081, \"VCL\": -2.175464142701129, \"PHISw\": 0.40905660377358494, \"PHISwshc\": 0.9754982107410488, \"PHISrhg\": 0.3087967183226983, \"PHISrhgshc\": 0.8752383252901621, \"PHID\": -0.03738317757009328, \"PHIDshc\": 0.0, \"PHI_SIMANDOUX\": 0.1486692839244831, \"PHIN\": 0.003388, \"PHINshc\": 0.9823468642155081, \"PHIxND\": 0.49117343210775405, \"PHIE\": -0.03738317757009328}, {\"WELL\": \"LL-4\", \"DEPT\": 2468.5, \"GR\": 36.5257, \"CALI\": 12.67, \"MR\": 2.3174, \"DR\": 2.39, \"SR\": null, \"NPHI\": 0.3371, \"RHOB\": 2.3113, \"DT\": 109.8, \"SP\": 107.6, \"VSH\": 0.2139, \"RW\": 0.114701, \"NPHI_corr\": 0.29710000000000003, \"VCLGR\": -0.021942361184347097, \"VCLRT\": -1.9748953974895405, \"VCLND\": 11.452000000000085, \"VCL\": -1.9748953974895405, \"PHISw\": 0.40981132075471693, \"PHISwshc\": 0.92402936764822, \"PHISrhg\": 0.30908469945355194, \"PHISrhgshc\": 0.823302746347055, \"PHID\": -0.03331775700934576, \"PHIDshc\": 0.0, \"PHI_SIMANDOUX\": 0.15307397383640012, \"PHIN\": 0.0033710000000000003, \"PHINshc\": 0.8920739288702932, \"PHIxND\": 0.4460369644351466, \"PHIE\": -0.03331775700934576}, {\"WELL\": \"LL-4\", \"DEPT\": 2469.0, \"GR\": 38.3885, \"CALI\": 12.67, \"MR\": 2.3289, \"DR\": 2.294, \"SR\": null, \"NPHI\": 0.3425, \"RHOB\": 2.31, \"DT\": 108.5, \"SP\": 108.8, \"VSH\": 0.2439, \"RW\": 0.11469, \"NPHI_corr\": 0.30250000000000005, \"VCLGR\": -0.010365492857280285, \"VCLRT\": -1.7227550130775942, \"VCLND\": 11.750000000000087, \"VCL\": -1.7227550130775942, \"PHISw\": 0.4, \"PHISwshc\": 0.8485663996315245, \"PHISrhg\": 0.3052995391705069, \"PHISrhgshc\": 0.7538659388020315, \"PHID\": -0.032710280373831696, \"PHIDshc\": 0.0, \"PHI_SIMANDOUX\": 0.17400743151103443, \"PHIN\": 0.003425, \"PHINshc\": 0.7786647558849173, \"PHIxND\": 0.3893323779424587, \"PHIE\": -0.032710280373831696}, {\"WELL\": \"LL-4\", \"DEPT\": 2469.5, \"GR\": 41.451, \"CALI\": 12.65, \"MR\": 2.2458, \"DR\": 2.1967, \"SR\": null, \"NPHI\": 0.3552, \"RHOB\": 2.3273, \"DT\": 106.1, \"SP\": 108.7, \"VSH\": 0.2933, \"RW\": 0.11468, \"NPHI_corr\": 0.31520000000000004, \"VCLGR\": 0.009620411153686191, \"VCLRT\": -1.44471252333045, \"VCLND\": 12.858000000000095, \"VCL\": -1.44471252333045, \"PHISw\": 0.38188679245283014, \"PHISwshc\": 0.758057223055853, \"PHISrhg\": 0.2980678605089538, \"PHISrhgshc\": 0.6742382911119766, \"PHID\": -0.040794392523364455, \"PHIDshc\": 0.0, \"PHI_SIMANDOUX\": 0.20939086950169333, \"PHIN\": 0.003552, \"PHINshc\": 0.6536726354987025, \"PHIxND\": 0.32683631774935124, \"PHIE\": -0.040794392523364455}, {\"WELL\": \"LL-4\", \"DEPT\": 2470.0, \"GR\": 43.5989, \"CALI\": 12.61, \"MR\": 2.0949, \"DR\": 2.086, \"SR\": null, \"NPHI\": 0.3703, \"RHOB\": 2.3386, \"DT\": 102.3, \"SP\": 107.5, \"VSH\": 0.3279, \"RW\": 0.11467, \"NPHI_corr\": 0.33030000000000004, \"VCLGR\": 0.02437866210349272, \"VCLRT\": -1.0968360498561838, \"VCLND\": 13.9900000000001, \"VCL\": -1.0968360498561838, \"PHISw\": 0.3532075471698113, \"PHISwshc\": 0.6387988205285913, \"PHISrhg\": 0.2859237536656892, \"PHISrhgshc\": 0.5715150270244691, \"PHID\": -0.04607476635514009, \"PHIDshc\": 0.0, \"PHI_SIMANDOUX\": 0.23413809396879523, \"PHIN\": 0.003703, \"PHINshc\": 0.49727922243528266, \"PHIxND\": 0.24863961121764133, \"PHIE\": -0.04607476635514009}, {\"WELL\": \"LL-4\", \"DEPT\": 2470.5, \"GR\": 43.5045, \"CALI\": 12.53, \"MR\": 1.9485, \"DR\": 1.9553, \"SR\": null, \"NPHI\": 0.3801, \"RHOB\": 2.3571, \"DT\": 97.7, \"SP\": 105.4, \"VSH\": 0.3263, \"RW\": 0.114659, \"NPHI_corr\": 0.3401, \"VCLGR\": 0.023716764089515653, \"VCLRT\": -0.6354012172045213, \"VCLND\": 14.948000000000107, \"VCL\": -0.6354012172045213, \"PHISw\": 0.31849056603773584, \"PHISwshc\": 0.48393465655513945, \"PHISrhg\": 0.26995905834186285, \"PHISrhgshc\": 0.43540314885926645, \"PHID\": -0.054719626168224185, \"PHIDshc\": 0.0, \"PHI_SIMANDOUX\": 0.23395077205257325, \"PHIN\": 0.003801, \"PHINshc\": 0.2897315477420345, \"PHIxND\": 0.14486577387101726, \"PHIE\": -0.054719626168224185}, {\"WELL\": \"LL-4\", \"DEPT\": 2471.0, \"GR\": 40.9439, \"CALI\": 12.5, \"MR\": 1.8178, \"DR\": 1.82, \"SR\": null, \"NPHI\": 0.3817, \"RHOB\": 2.3685, \"DT\": 93.5, \"SP\": 106.4, \"VSH\": 0.2851, \"RW\": 0.114649, \"NPHI_corr\": 0.3417, \"VCLGR\": 0.006226770229405057, \"VCLRT\": -0.087912087912088, \"VCLND\": 15.272000000000107, \"VCL\": -0.087912087912088, \"PHISw\": 0.28679245283018867, \"PHISwshc\": 0.30968277006012856, \"PHISrhg\": 0.2540106951871658, \"PHISrhgshc\": 0.2769010124171057, \"PHID\": -0.06004672897196254, \"PHIDshc\": 0.0, \"PHI_SIMANDOUX\": 0.20601895502626977, \"PHIN\": 0.0038169999999999996, \"PHINshc\": 0.0433774395604396, \"PHIxND\": 0.0216887197802198, \"PHIE\": -0.06004672897196254}, {\"WELL\": \"LL-4\", \"DEPT\": 2471.5, \"GR\": 37.5089, \"CALI\": 12.5, \"MR\": 1.6537, \"DR\": 1.696, \"SR\": null, \"NPHI\": 0.3722, \"RHOB\": 2.37, \"DT\": 95.3, \"SP\": 108.3, \"VSH\": 0.2297, \"RW\": 0.114639, \"NPHI_corr\": 0.3322, \"VCLGR\": -0.015885239326302408, \"VCLRT\": 0.49056603773584967, \"VCLND\": 14.732000000000108, \"VCL\": 0.49056603773584967, \"PHISw\": 0.300377358490566, \"PHISwshc\": 0.17264506941972213, \"PHISrhg\": 0.26101783840503673, \"PHISrhgshc\": 0.13328554933419284, \"PHID\": -0.06074766355140181, \"PHIDshc\": 0.03323928760359735, \"PHI_SIMANDOUX\": 0.16800650080719245, \"PHIN\": 0.0037219999999999996, \"PHINshc\": 0.0, \"PHIxND\": 0.016619643801798676, \"PHIE\": -0.06074766355140181}, {\"WELL\": \"LL-4\", \"DEPT\": 2510.0, \"GR\": 30.2903, \"CALI\": 12.82, \"MR\": 1.4039, \"DR\": 1.7522, \"SR\": null, \"NPHI\": 0.5002, \"RHOB\": 2.1786, \"DT\": 105.609, \"SP\": 107.1, \"VSH\": 0.1134, \"RW\": 0.113854, \"NPHI_corr\": 0.4602, \"VCLGR\": -0.05772849090583595, \"VCLRT\": 0.2182399269489788, \"VCLND\": 18.584000000000135, \"VCL\": 0.2182399269489788, \"PHISw\": 0.37818113207547166, \"PHISwshc\": 0.32135639637932245, \"PHISrhg\": 0.296547879442093, \"PHISrhgshc\": 0.23972314374594378, \"PHID\": 0.02869158878504689, \"PHIDshc\": 0.07050391123788859, \"PHI_SIMANDOUX\": 0.08271265703328066, \"PHIN\": 0.0050019999999999995, \"PHINshc\": 0.0, \"PHIxND\": 0.03525195561894429, \"PHIE\": 0.02869158878504689}, {\"WELL\": \"LL-4\", \"DEPT\": 2510.5, \"GR\": 30.4214, \"CALI\": 12.86, \"MR\": 1.5943, \"DR\": 1.91, \"SR\": null, \"NPHI\": 0.4985, \"RHOB\": 2.1587, \"DT\": 106.282, \"SP\": 106.7, \"VSH\": 0.1155, \"RW\": 0.113844, \"NPHI_corr\": 0.4585, \"VCLGR\": -0.057020665388522566, \"VCLRT\": -0.46073298429319337, \"VCLND\": 18.084000000000135, \"VCL\": -0.46073298429319337, \"PHISw\": 0.38326037735849056, \"PHISwshc\": 0.5032248147782277, \"PHISrhg\": 0.2986277074198829, \"PHISrhgshc\": 0.41859214483962004, \"PHID\": 0.037990654205607544, \"PHIDshc\": 0.0, \"PHI_SIMANDOUX\": 0.08597540289806745, \"PHIN\": 0.004985, \"PHINshc\": 0.21231484293193703, \"PHIxND\": 0.10615742146596852, \"PHIE\": 0.037990654205607544}, {\"WELL\": \"LL-4\", \"DEPT\": 2511.0, \"GR\": 30.1758, \"CALI\": 12.92, \"MR\": 1.704, \"DR\": 2.0833, \"SR\": null, \"NPHI\": 0.4789, \"RHOB\": 2.1444, \"DT\": 114.9, \"SP\": 107.6, \"VSH\": 0.1116, \"RW\": 0.113833, \"NPHI_corr\": 0.4389, \"VCLGR\": -0.058345189269151394, \"VCLRT\": -1.0878894062304996, \"VCLND\": 16.622000000000124, \"VCL\": -1.0878894062304996, \"PHISw\": 0.44830188679245286, \"PHISwshc\": 0.7315636567166206, \"PHISrhg\": 0.32310704960835507, \"PHISrhgshc\": 0.6063688195325229, \"PHID\": 0.04467289719626174, \"PHIDshc\": 0.0, \"PHI_SIMANDOUX\": 0.0850006698323836, \"PHIN\": 0.004789, \"PHINshc\": 0.4943392328037248, \"PHIxND\": 0.2471696164018624, \"PHIE\": 0.04467289719626174}, {\"WELL\": \"LL-4\", \"DEPT\": 2511.5, \"GR\": 30.1074, \"CALI\": 13.06, \"MR\": 1.7839, \"DR\": 2.2556, \"SR\": null, \"NPHI\": 0.4608, \"RHOB\": 2.1568, \"DT\": 116.145, \"SP\": 107.2, \"VSH\": 0.1105, \"RW\": 0.113823, \"NPHI_corr\": 0.4208, \"VCLGR\": -0.05871292582366842, \"VCLRT\": -1.6158893420819291, \"VCLND\": 15.784000000000116, \"VCL\": -1.6158893420819291, \"PHISw\": 0.45769811320754716, \"PHISwshc\": 0.8784391117118986, \"PHISrhg\": 0.3263431486503939, \"PHISrhgshc\": 0.7470841471547452, \"PHID\": 0.03887850467289727, \"PHIDshc\": 0.0, \"PHI_SIMANDOUX\": 0.08283051408026058, \"PHIN\": 0.004608, \"PHINshc\": 0.7317582039368682, \"PHIxND\": 0.3658791019684341, \"PHIE\": 0.03887850467289727}, {\"WELL\": \"LL-4\", \"DEPT\": 2512.0, \"GR\": 31.1225, \"CALI\": 13.14, \"MR\": 1.8719, \"DR\": 2.3933, \"SR\": null, \"NPHI\": 0.4607, \"RHOB\": 2.2033, \"DT\": 108.6, \"SP\": 106.3, \"VSH\": 0.1268, \"RW\": 0.113813, \"NPHI_corr\": 0.4207, \"VCLGR\": -0.053203986052044995, \"VCLRT\": -1.9832031086783939, \"VCLND\": 16.708000000000126, \"VCL\": -1.9832031086783939, \"PHISw\": 0.400754716981132, \"PHISwshc\": 0.9171359037690912, \"PHISrhg\": 0.3055939226519337, \"PHISrhgshc\": 0.8219751094398928, \"PHID\": 0.017149532710280455, \"PHIDshc\": 0.0, \"PHI_SIMANDOUX\": 0.09047747363896988, \"PHIN\": 0.004607, \"PHINshc\": 0.8970483989052772, \"PHIxND\": 0.4485241994526386, \"PHIE\": 0.017149532710280455}, {\"WELL\": \"LL-4\", \"DEPT\": 2512.5, \"GR\": 33.0795, \"CALI\": 13.15, \"MR\": 2.0072, \"DR\": 2.4833, \"SR\": null, \"NPHI\": 0.4611, \"RHOB\": 2.2576, \"DT\": 103.827, \"SP\": 106.5, \"VSH\": 0.1583, \"RW\": 0.113803, \"NPHI_corr\": 0.42110000000000003, \"VCLGR\": -0.04226565171925105, \"VCLRT\": -2.2012644465026376, \"VCLND\": 17.81800000000013, \"VCL\": -2.2012644465026376, \"PHISw\": 0.3647320754716981, \"PHISwshc\": 0.9378914973912529, \"PHISrhg\": 0.2909106012886821, \"PHISrhgshc\": 0.8640700232082368, \"PHID\": -0.008224299065420484, \"PHIDshc\": 0.0, \"PHI_SIMANDOUX\": 0.11208596945005533, \"PHIN\": 0.0046110000000000005, \"PHINshc\": 0.995180000926187, \"PHIxND\": 0.4975900004630935, \"PHIE\": -0.008224299065420484}, {\"WELL\": \"LL-4\", \"DEPT\": 2513.0, \"GR\": 35.705, \"CALI\": 13.16, \"MR\": 2.17, \"DR\": 2.5322, \"SR\": null, \"NPHI\": 0.4402, \"RHOB\": 2.3074, \"DT\": 104.227, \"SP\": 106.3, \"VSH\": 0.2007, \"RW\": 0.113793, \"NPHI_corr\": 0.4002, \"VCLGR\": -0.02690884759037792, \"VCLRT\": -2.3132453992575632, \"VCLND\": 17.56000000000012, \"VCL\": -2.3132453992575632, \"PHISw\": 0.36775094339622644, \"PHISwshc\": 0.9700676699953656, \"PHISrhg\": 0.2921927619522773, \"PHISrhgshc\": 0.8945094885514164, \"PHID\": -0.03149532710280359, \"PHIDshc\": 0.0, \"PHI_SIMANDOUX\": 0.1436531336750309, \"PHIN\": 0.004402, \"PHINshc\": 1.0, \"PHIxND\": 0.5, \"PHIE\": -0.03149532710280359}, {\"WELL\": \"LL-4\", \"DEPT\": 2513.5, \"GR\": 39.0373, \"CALI\": 13.13, \"MR\": 2.212, \"DR\": 2.5411, \"SR\": null, \"NPHI\": 0.4097, \"RHOB\": 2.3463, \"DT\": 108.836, \"SP\": 107.0, \"VSH\": 0.2544, \"RW\": 0.113783, \"NPHI_corr\": 0.36970000000000003, \"VCLGR\": -0.006232020646591926, \"VCLRT\": -2.333162803510292, \"VCLND\": 16.508000000000113, \"VCL\": -2.333162803510292, \"PHISw\": 0.4025358490566038, \"PHISwshc\": 1.0, \"PHISrhg\": 0.3062865228417068, \"PHISrhgshc\": 0.9137892905481602, \"PHID\": -0.0496728971962615, \"PHIDshc\": 0.0, \"PHI_SIMANDOUX\": 0.1832849648987477, \"PHIN\": 0.004097, \"PHINshc\": 1.0, \"PHIxND\": 0.5, \"PHIE\": -0.0496728971962615}, {\"WELL\": \"LL-4\", \"DEPT\": 2514.0, \"GR\": 42.8064, \"CALI\": 12.94, \"MR\": 2.2029, \"DR\": 2.55, \"SR\": null, \"NPHI\": 0.394, \"RHOB\": 2.3654, \"DT\": 109.709, \"SP\": 107.1, \"VSH\": 0.3151, \"RW\": 0.113773, \"NPHI_corr\": 0.35400000000000004, \"VCLGR\": 0.018860167532502206, \"VCLRT\": -2.3529411764705883, \"VCLND\": 15.948000000000118, \"VCL\": -2.3529411764705883, \"PHISw\": 0.40912452830188684, \"PHISwshc\": 1.0, \"PHISrhg\": 0.30882265812285226, \"PHISrhgshc\": 0.9214752663359488, \"PHID\": -0.05859813084112147, \"PHIDshc\": 0.0, \"PHI_SIMANDOUX\": 0.22662937909511333, \"PHIN\": 0.00394, \"PHINshc\": 1.0, \"PHIxND\": 0.5, \"PHIE\": -0.05859813084112147}, {\"WELL\": \"LL-4\", \"DEPT\": 2514.5, \"GR\": 46.0051, \"CALI\": 12.69, \"MR\": 2.1583, \"DR\": 2.5856, \"SR\": null, \"NPHI\": 0.391, \"RHOB\": 2.37, \"DT\": 103.282, \"SP\": 106.6, \"VSH\": 0.3666, \"RW\": 0.113763, \"NPHI_corr\": 0.35100000000000003, \"VCLGR\": 0.041674654476419895, \"VCLRT\": -2.430693069306931, \"VCLND\": 15.860000000000118, \"VCL\": -2.430693069306931, \"PHISw\": 0.3606188679245283, \"PHISwshc\": 0.9935163086119934, \"PHISrhg\": 0.28914767336031444, \"PHISrhgshc\": 0.9220451140477796, \"PHID\": -0.06074766355140181, \"PHIDshc\": 0.0, \"PHI_SIMANDOUX\": 0.26276019354818025, \"PHIN\": 0.00391, \"PHINshc\": 1.0, \"PHIxND\": 0.5, \"PHIE\": -0.06074766355140181}, {\"WELL\": \"LL-4\", \"DEPT\": 2515.0, \"GR\": 47.2402, \"CALI\": 12.43, \"MR\": 2.1147, \"DR\": 2.6133, \"SR\": null, \"NPHI\": 0.3823, \"RHOB\": 2.3753, \"DT\": 101.645, \"SP\": 106.0, \"VSH\": 0.3865, \"RW\": 0.113752, \"NPHI_corr\": 0.3423, \"VCLGR\": 0.05087797972848692, \"VCLRT\": -2.48972563425554, \"VCLND\": 15.444000000000113, \"VCL\": -2.48972563425554, \"PHISw\": 0.3482641509433962, \"PHISwshc\": 0.9965323349571029, \"PHISrhg\": 0.28373874760194795, \"PHISrhgshc\": 0.9320069316156546, \"PHID\": -0.06322429906542054, \"PHIDshc\": 0.0, \"PHI_SIMANDOUX\": 0.2769291985258269, \"PHIN\": 0.0038229999999999996, \"PHINshc\": 1.0, \"PHIxND\": 0.5, \"PHIE\": -0.06322429906542054}, {\"WELL\": \"LL-4\", \"DEPT\": 2515.5, \"GR\": 46.3367, \"CALI\": 12.61, \"MR\": 2.0877, \"DR\": 2.6267, \"SR\": null, \"NPHI\": 0.3659, \"RHOB\": 2.3853, \"DT\": 100.609, \"SP\": 105.9, \"VSH\": 0.372, \"RW\": 0.113742, \"NPHI_corr\": 0.3259, \"VCLGR\": 0.04412350167644091, \"VCLRT\": -2.5178360680702028, \"VCLND\": 14.660000000000105, \"VCL\": -2.5178360680702028, \"PHISw\": 0.3404452830188679, \"PHISwshc\": 0.9960327875352603, \"PHISrhg\": 0.2802246816885169, \"PHISrhgshc\": 0.9358121862049092, \"PHID\": -0.06789719626168213, \"PHIDshc\": 0.0, \"PHI_SIMANDOUX\": 0.26738925675894065, \"PHIN\": 0.003659, \"PHINshc\": 1.0, \"PHIxND\": 0.5, \"PHIE\": -0.06789719626168213}, {\"WELL\": \"LL-4\", \"DEPT\": 2516.0, \"GR\": 43.7052, \"CALI\": 13.23, \"MR\": 2.0744, \"DR\": 2.6189, \"SR\": null, \"NPHI\": 0.3521, \"RHOB\": 2.39, \"DT\": 97.4818, \"SP\": 105.8, \"VSH\": 0.3296, \"RW\": 0.113732, \"NPHI_corr\": 0.31210000000000004, \"VCLGR\": 0.025125481280203, \"VCLRT\": -2.501508266829586, \"VCLND\": 13.926000000000101, \"VCL\": -2.501508266829586, \"PHISw\": 0.31684377358490573, \"PHISwshc\": 0.9681798883443073, \"PHISrhg\": 0.26916434657546334, \"PHISrhgshc\": 0.9205004613348649, \"PHID\": -0.07009345794392519, \"PHIDshc\": 0.0, \"PHI_SIMANDOUX\": 0.23827426722847855, \"PHIN\": 0.0035210000000000003, \"PHINshc\": 1.0, \"PHIxND\": 0.5, \"PHIE\": -0.07009345794392519}, {\"WELL\": \"LL-4\", \"DEPT\": 2516.5, \"GR\": 40.1176, \"CALI\": 13.41, \"MR\": 2.068, \"DR\": 2.5789, \"SR\": null, \"NPHI\": 0.3455, \"RHOB\": 2.3848, \"DT\": 98.0, \"SP\": 107.4, \"VSH\": 0.2718, \"RW\": 0.113722, \"NPHI_corr\": 0.3055, \"VCLGR\": 0.0007694572691920199, \"VCLRT\": -2.416223971460701, \"VCLND\": 13.42600000000009, \"VCL\": -2.416223971460701, \"PHISw\": 0.32075471698113206, \"PHISwshc\": 0.9498847321916541, \"PHISrhg\": 0.2710459183673469, \"PHISrhgshc\": 0.900175933577869, \"PHID\": -0.06766355140186897, \"PHIDshc\": 0.0, \"PHI_SIMANDOUX\": 0.19805756257754129, \"PHIN\": 0.0034549999999999997, \"PHINshc\": 1.0, \"PHIxND\": 0.5, \"PHIE\": -0.06766355140186897}, {\"WELL\": \"LL-4\", \"DEPT\": 2517.0, \"GR\": 36.524, \"CALI\": 13.42, \"MR\": 2.0591, \"DR\": 2.51, \"SR\": null, \"NPHI\": 0.3478, \"RHOB\": 2.3696, \"DT\": 104.4, \"SP\": 107.1, \"VSH\": 0.2139, \"RW\": 0.113712, \"NPHI_corr\": 0.3078, \"VCLGR\": -0.02195273243211671, \"VCLRT\": -2.2629482071713145, \"VCLND\": 13.260000000000097, \"VCL\": -2.2629482071713145, \"PHISw\": 0.36905660377358496, \"PHISwshc\": 0.958277080357814, \"PHISrhg\": 0.29274425287356326, \"PHISrhgshc\": 0.8819647294577924, \"PHID\": -0.06056074766355137, \"PHIDshc\": 0.0, \"PHI_SIMANDOUX\": 0.15719544229647428, \"PHIN\": 0.003478, \"PHINshc\": 1.0, \"PHIxND\": 0.5, \"PHIE\": -0.06056074766355137}, {\"WELL\": \"LL-4\", \"DEPT\": 2517.5, \"GR\": 33.2871, \"CALI\": 13.26, \"MR\": 2.0361, \"DR\": 2.43, \"SR\": null, \"NPHI\": 0.3683, \"RHOB\": 2.3497, \"DT\": 112.055, \"SP\": 106.2, \"VSH\": 0.1617, \"RW\": 0.113702, \"NPHI_corr\": 0.32830000000000004, \"VCLGR\": -0.04108023909073592, \"VCLRT\": -2.074074074074075, \"VCLND\": 14.092000000000096, \"VCL\": -2.074074074074075, \"PHISw\": 0.4268301886792453, \"PHISwshc\": 0.9668721174004196, \"PHISrhg\": 0.3154421935656597, \"PHISrhgshc\": 0.8554841222868339, \"PHID\": -0.051261682242990506, \"PHIDshc\": 0.0, \"PHI_SIMANDOUX\": 0.1199471760117372, \"PHIN\": 0.003683, \"PHINshc\": 0.9370163333333338, \"PHIxND\": 0.4685081666666669, \"PHIE\": -0.051261682242990506}, {\"WELL\": \"LL-4\", \"DEPT\": 2518.0, \"GR\": 30.5771, \"CALI\": 13.07, \"MR\": 1.9918, \"DR\": 2.35, \"SR\": null, \"NPHI\": 0.3963, \"RHOB\": 2.3349, \"DT\": 107.445, \"SP\": 105.7, \"VSH\": 0.118, \"RW\": 0.113692, \"NPHI_corr\": 0.3563, \"VCLGR\": -0.056177630498362455, \"VCLRT\": -1.8723404255319156, \"VCLND\": 15.476000000000116, \"VCL\": -1.8723404255319156, \"PHISw\": 0.39203773584905655, \"PHISwshc\": 0.8795527900441591, \"PHISrhg\": 0.3021604076504258, \"PHISrhgshc\": 0.7896754618455284, \"PHID\": -0.044345794392523355, \"PHIDshc\": 0.0, \"PHI_SIMANDOUX\": 0.0891362706206176, \"PHIN\": 0.0039629999999999995, \"PHINshc\": 0.846516191489362, \"PHIxND\": 0.423258095744681, \"PHIE\": -0.044345794392523355}, {\"WELL\": \"LL-4\", \"DEPT\": 2518.5, \"GR\": 29.3123, \"CALI\": 12.98, \"MR\": 1.9275, \"DR\": 2.27, \"SR\": null, \"NPHI\": 0.412, \"RHOB\": 2.33, \"DT\": 98.1, \"SP\": 105.4, \"VSH\": 0.0976, \"RW\": 0.113682, \"NPHI_corr\": 0.372, \"VCLGR\": -0.06295124332891071, \"VCLRT\": -1.6563876651982383, \"VCLND\": 16.320000000000114, \"VCL\": -1.6563876651982383, \"PHISw\": 0.3215094339622641, \"PHISwshc\": 0.7527952788629375, \"PHISrhg\": 0.27140672782874614, \"PHISrhgshc\": 0.7026925727294195, \"PHID\": -0.04205607476635507, \"PHIDshc\": 0.0, \"PHI_SIMANDOUX\": 0.07514809852801749, \"PHIN\": 0.0041199999999999995, \"PHINshc\": 0.7494944493392073, \"PHIxND\": 0.37474722466960364, \"PHIE\": -0.04205607476635507}, {\"WELL\": \"LL-4\", \"DEPT\": 2519.0, \"GR\": 29.7846, \"CALI\": 12.95, \"MR\": 1.8504, \"DR\": 2.1989, \"SR\": null, \"NPHI\": 0.4223, \"RHOB\": 2.33, \"DT\": 97.1364, \"SP\": 106.4, \"VSH\": 0.1052, \"RW\": 0.113672, \"NPHI_corr\": 0.38230000000000003, \"VCLGR\": -0.06044167746592296, \"VCLRT\": -1.4512710900905001, \"VCLND\": 16.938000000000127, \"VCL\": -1.4512710900905001, \"PHISw\": 0.31423698113207543, \"PHISwshc\": 0.6921151140235642, \"PHISrhg\": 0.26789905740793357, \"PHISrhgshc\": 0.6457771902994223, \"PHID\": -0.04205607476635507, \"PHIDshc\": 0.0, \"PHI_SIMANDOUX\": 0.08011165153943978, \"PHIN\": 0.004223, \"PHINshc\": 0.6572949905407252, \"PHIxND\": 0.3286474952703626, \"PHIE\": -0.04205607476635507}, {\"WELL\": \"LL-4\", \"DEPT\": 2519.5, \"GR\": 31.372, \"CALI\": 12.82, \"MR\": 1.7701, \"DR\": 2.1278, \"SR\": null, \"NPHI\": 0.4366, \"RHOB\": 2.335, \"DT\": 99.8091, \"SP\": 106.2, \"VSH\": 0.1308, \"RW\": 0.113662, \"NPHI_corr\": 0.3966, \"VCLGR\": -0.05183291109933995, \"VCLRT\": -1.2324466585205383, \"VCLND\": 17.89600000000013, \"VCL\": -1.2324466585205383, \"PHISw\": 0.33440830188679244, \"PHISwshc\": 0.6553095073128948, \"PHISrhg\": 0.2774615490972266, \"PHISrhgshc\": 0.598362754523329, \"PHID\": -0.04439252336448586, \"PHIDshc\": 0.0, \"PHI_SIMANDOUX\": 0.09767122434644307, \"PHIN\": 0.004366, \"PHINshc\": 0.5589669963342422, \"PHIxND\": 0.2794834981671211, \"PHIE\": -0.04439252336448586}, {\"WELL\": \"LL-4\", \"DEPT\": 2520.0, \"GR\": 33.2234, \"CALI\": 12.94, \"MR\": 1.6973, \"DR\": 2.0633, \"SR\": null, \"NPHI\": 0.4452, \"RHOB\": 2.34, \"DT\": 103.318, \"SP\": 105.9, \"VSH\": 0.1607, \"RW\": 0.113651, \"NPHI_corr\": 0.4052, \"VCLGR\": -0.04144448961651577, \"VCLRT\": -1.0208888673484222, \"VCLND\": 18.51200000000013, \"VCL\": -1.0208888673484222, \"PHISw\": 0.36089056603773584, \"PHISwshc\": 0.626706912630344, \"PHISrhg\": 0.28926469734218624, \"PHISrhgshc\": 0.5550810439347943, \"PHID\": -0.046728971962616654, \"PHIDshc\": 0.0, \"PHI_SIMANDOUX\": 0.1183386809557277, \"PHIN\": 0.004452, \"PHINshc\": 0.46385199030679, \"PHIxND\": 0.231925995153395, \"PHIE\": -0.046728971962616654}, {\"WELL\": \"LL-4\", \"DEPT\": 2520.5, \"GR\": 34.5176, \"CALI\": 12.95, \"MR\": 1.6375, \"DR\": 1.9956, \"SR\": null, \"NPHI\": 0.4418, \"RHOB\": 2.34, \"DT\": 106.736, \"SP\": 107.0, \"VSH\": 0.1815, \"RW\": 0.113641, \"NPHI_corr\": 0.40180000000000005, \"VCLGR\": -0.03395304304683446, \"VCLRT\": -0.7841250751653639, \"VCLND\": 18.30800000000013, \"VCL\": -0.7841250751653639, \"PHISw\": 0.3866867924528302, \"PHISwshc\": 0.5908552082506042, \"PHISrhg\": 0.3000159271473542, \"PHISrhgshc\": 0.5041843429451283, \"PHID\": -0.046728971962616654, \"PHIDshc\": 0.0, \"PHI_SIMANDOUX\": 0.13252518028790417, \"PHIN\": 0.004418, \"PHINshc\": 0.35727428382441373, \"PHIxND\": 0.17863714191220686, \"PHIE\": -0.046728971962616654}, {\"WELL\": \"LL-4\", \"DEPT\": 2521.0, \"GR\": 35.0186, \"CALI\": 12.83, \"MR\": 1.5927, \"DR\": 1.9333, \"SR\": null, \"NPHI\": 0.4351, \"RHOB\": 2.3351, \"DT\": 107.745, \"SP\": 106.6, \"VSH\": 0.1896, \"RW\": 0.113631, \"NPHI_corr\": 0.3951, \"VCLGR\": -0.03100107236411359, \"VCLRT\": -0.5515957171675374, \"VCLND\": 17.80800000000013, \"VCL\": -0.5515957171675374, \"PHISw\": 0.39430188679245287, \"PHISwshc\": 0.5379249225832456, \"PHISrhg\": 0.30305930669636644, \"PHISrhgshc\": 0.4466823424871592, \"PHID\": -0.044439252336448576, \"PHIDshc\": 0.0, \"PHI_SIMANDOUX\": 0.1377007755029407, \"PHIN\": 0.004351, \"PHINshc\": 0.2525690727253918, \"PHIxND\": 0.1262845363626959, \"PHIE\": -0.044439252336448576}, {\"WELL\": \"LL-4\", \"DEPT\": 2521.5, \"GR\": 35.0673, \"CALI\": 12.76, \"MR\": 1.5608, \"DR\": 1.8767, \"SR\": null, \"NPHI\": 0.4334, \"RHOB\": 2.33, \"DT\": 108.164, \"SP\": 105.1, \"VSH\": 0.1904, \"RW\": 0.113621, \"NPHI_corr\": 0.3934, \"VCLGR\": -0.03071255931781829, \"VCLRT\": -0.3269568924175415, \"VCLND\": 17.60400000000013, \"VCL\": -0.3269568924175415, \"PHISw\": 0.3974641509433962, \"PHISwshc\": 0.48259632293135984, \"PHISrhg\": 0.30430642357900967, \"PHISrhgshc\": 0.3894385955669733, \"PHID\": -0.04205607476635507, \"PHIDshc\": 0.0, \"PHI_SIMANDOUX\": 0.1378783402582749, \"PHIN\": 0.004334, \"PHINshc\": 0.15146460158789368, \"PHIxND\": 0.07573230079394684, \"PHIE\": -0.04205607476635507}, {\"WELL\": \"LL-4\", \"DEPT\": 2522.0, \"GR\": 35.4424, \"CALI\": 12.75, \"MR\": 1.5378, \"DR\": 1.8167, \"SR\": null, \"NPHI\": 0.4363, \"RHOB\": 2.3252, \"DT\": 108.9, \"SP\": 104.9, \"VSH\": 0.1964, \"RW\": 0.113611, \"NPHI_corr\": 0.39630000000000004, \"VCLGR\": -0.02848100705411868, \"VCLRT\": -0.0735399350470631, \"VCLND\": 17.682000000000134, \"VCL\": -0.0735399350470631, \"PHISw\": 0.40301886792452835, \"PHISwshc\": 0.42216700195565043, \"PHISrhg\": 0.3064738292011019, \"PHISrhgshc\": 0.325621963232224, \"PHID\": -0.039813084112149504, \"PHIDshc\": 0.0, \"PHI_SIMANDOUX\": 0.14170046165507205, \"PHIN\": 0.0043630000000000006, \"PHINshc\": 0.0374559707711784, \"PHIxND\": 0.0187279853855892, \"PHIE\": -0.039813084112149504}, {\"WELL\": \"LL-4\", \"DEPT\": 2522.5, \"GR\": 36.3765, \"CALI\": 12.8, \"MR\": 1.5217, \"DR\": 1.7644, \"SR\": null, \"NPHI\": 0.438, \"RHOB\": 2.3248, \"DT\": 108.987, \"SP\": 106.2, \"VSH\": 0.2115, \"RW\": 0.113601, \"NPHI_corr\": 0.398, \"VCLGR\": -0.02285126255054126, \"VCLRT\": 0.1614146452051693, \"VCLND\": 17.77600000000013, \"VCL\": 0.1614146452051693, \"PHISw\": 0.4036754716981132, \"PHISwshc\": 0.3616467527578993, \"PHISrhg\": 0.30672809601145085, \"PHISrhgshc\": 0.264699377071237, \"PHID\": -0.039626168224299055, \"PHIDshc\": 0.0, \"PHI_SIMANDOUX\": 0.15215532065646017, \"PHIN\": 0.00438, \"PHINshc\": 0.0, \"PHIxND\": 0.0, \"PHIE\": -0.039626168224299055}, {\"WELL\": \"LL-4\", \"DEPT\": 2523.0, \"GR\": 37.1621, \"CALI\": 12.79, \"MR\": 1.5031, \"DR\": 1.72, \"SR\": null, \"NPHI\": 0.4415, \"RHOB\": 2.3348, \"DT\": 109.739, \"SP\": 107.4, \"VSH\": 0.2241, \"RW\": 0.113591, \"NPHI_corr\": 0.4015, \"VCLGR\": -0.018035218808899852, \"VCLRT\": 0.3720930232558144, \"VCLND\": 18.18600000000013, \"VCL\": 0.3720930232558144, \"PHISw\": 0.40935094339622646, \"PHISwshc\": 0.31246634488810876, \"PHISrhg\": 0.3089090933943266, \"PHISrhgshc\": 0.2120244948862089, \"PHID\": -0.04429906542056064, \"PHIDshc\": 0.02698978482938505, \"PHI_SIMANDOUX\": 0.16152897139079278, \"PHIN\": 0.004415, \"PHINshc\": 0.0, \"PHIxND\": 0.013494892414692525, \"PHIE\": -0.04429906542056064}, {\"WELL\": \"LL-4\", \"DEPT\": 2530.0, \"GR\": 39.9634, \"CALI\": 12.02, \"MR\": 1.556, \"DR\": 1.71, \"SR\": null, \"NPHI\": 0.4001, \"RHOB\": 2.2785, \"DT\": 100.052, \"SP\": 106.0, \"VSH\": 0.2693, \"RW\": 0.11345, \"NPHI_corr\": 0.36010000000000003, \"VCLGR\": -0.0002391085224575307, \"VCLRT\": 0.42105263157894784, \"VCLND\": 14.576000000000112, \"VCL\": 0.42105263157894784, \"PHISw\": 0.3362415094339623, \"PHISwshc\": 0.22660893743793437, \"PHISrhg\": 0.2783052812537481, \"PHISrhgshc\": 0.16867270925772015, \"PHID\": -0.017990654205607467, \"PHIDshc\": 0.06267830791933107, \"PHI_SIMANDOUX\": 0.19084830840060613, \"PHIN\": 0.004001, \"PHINshc\": 0.0, \"PHIxND\": 0.031339153959665536, \"PHIE\": -0.017990654205607467}, {\"WELL\": \"LL-4\", \"DEPT\": 2530.5, \"GR\": 40.063, \"CALI\": 12.03, \"MR\": 1.5765, \"DR\": 1.7433, \"SR\": null, \"NPHI\": 0.3879, \"RHOB\": 2.2942, \"DT\": 98.7044, \"SP\": 106.0, \"VSH\": 0.2709, \"RW\": 0.11344, \"NPHI_corr\": 0.34790000000000004, \"VCLGR\": 0.00041198638228815646, \"VCLRT\": 0.26019617965926684, \"VCLND\": 14.158000000000103, \"VCL\": 0.26019617965926684, \"PHISw\": 0.32607094339622644, \"PHISwshc\": 0.2583217494472098, \"PHISrhg\": 0.2735718975040627, \"PHISrhgshc\": 0.20582270355504606, \"PHID\": -0.025327102803738226, \"PHIDshc\": 0.024523567130981083, \"PHI_SIMANDOUX\": 0.19239058206735474, \"PHIN\": 0.003879, \"PHINshc\": 0.0, \"PHIxND\": 0.012261783565490542, \"PHIE\": -0.025327102803738226}, {\"WELL\": \"LL-4\", \"DEPT\": 2531.0, \"GR\": 39.101, \"CALI\": 12.03, \"MR\": 1.5959, \"DR\": 1.77, \"SR\": null, \"NPHI\": 0.374, \"RHOB\": 2.3042, \"DT\": 98.9217, \"SP\": 106.1, \"VSH\": 0.2554, \"RW\": 0.11343, \"NPHI_corr\": 0.334, \"VCLGR\": -0.005823320578610526, \"VCLRT\": 0.1355932203389832, \"VCLND\": 13.524000000000095, \"VCL\": 0.1355932203389832, \"PHISw\": 0.3277109433962264, \"PHISwshc\": 0.29240553885513265, \"PHISrhg\": 0.27434387500416996, \"PHISrhgshc\": 0.23903847046307622, \"PHID\": -0.029999999999999808, \"PHIDshc\": 0.0, \"PHI_SIMANDOUX\": 0.18183668496758293, \"PHIN\": 0.00374, \"PHINshc\": 0.0, \"PHIxND\": 0.0, \"PHIE\": -0.029999999999999808}, {\"WELL\": \"LL-4\", \"DEPT\": 2531.5, \"GR\": 37.7523, \"CALI\": 12.03, \"MR\": 1.6132, \"DR\": 1.7833, \"SR\": null, \"NPHI\": 0.3612, \"RHOB\": 2.31, \"DT\": 100.243, \"SP\": 106.6, \"VSH\": 0.2336, \"RW\": 0.11342, \"NPHI_corr\": 0.32120000000000004, \"VCLGR\": -0.014367443059442054, \"VCLRT\": 0.07491728817361046, \"VCLND\": 12.872000000000094, \"VCL\": 0.07491728817361046, \"PHISw\": 0.3376830188679245, \"PHISwshc\": 0.3181762532680033, \"PHISrhg\": 0.2789658629530241, \"PHISrhgshc\": 0.2594590973531029, \"PHID\": -0.032710280373831696, \"PHIDshc\": 0.0, \"PHI_SIMANDOUX\": 0.1667916701189461, \"PHIN\": 0.003612, \"PHINshc\": 0.0, \"PHIxND\": 0.0, \"PHIE\": -0.032710280373831696}, {\"WELL\": \"LL-4\", \"DEPT\": 2532.0, \"GR\": 35.7038, \"CALI\": 12.03, \"MR\": 1.6243, \"DR\": 1.79, \"SR\": null, \"NPHI\": 0.3568, \"RHOB\": 2.3018, \"DT\": 101.826, \"SP\": 105.9, \"VSH\": 0.2006, \"RW\": 0.11341, \"NPHI_corr\": 0.3168, \"VCLGR\": -0.02691605048002604, \"VCLRT\": 0.04469273743016765, \"VCLND\": 12.444000000000091, \"VCL\": 0.04469273743016765, \"PHISw\": 0.3496301886792452, \"PHISwshc\": 0.33799321176346575, \"PHISrhg\": 0.28434535383890164, \"PHISrhgshc\": 0.2727083769231221, \"PHID\": -0.028878504672897126, \"PHIDshc\": 0.0, \"PHI_SIMANDOUX\": 0.1433079342397736, \"PHIN\": 0.003568, \"PHINshc\": 0.0, \"PHIxND\": 0.0, \"PHIE\": -0.028878504672897126}, {\"WELL\": \"LL-4\", \"DEPT\": 2532.5, \"GR\": 33.064, \"CALI\": 12.04, \"MR\": 1.6293, \"DR\": 1.79, \"SR\": null, \"NPHI\": 0.3637, \"RHOB\": 2.2819, \"DT\": 103.035, \"SP\": 105.5, \"VSH\": 0.1581, \"RW\": 0.1134, \"NPHI_corr\": 0.32370000000000004, \"VCLGR\": -0.04235396259037769, \"VCLRT\": 0.04469273743016765, \"VCLND\": 12.460000000000088, \"VCL\": 0.04469273743016765, \"PHISw\": 0.35875471698113204, \"PHISwshc\": 0.34711774006535256, \"PHISrhg\": 0.28834255350123744, \"PHISrhgshc\": 0.2767055765854579, \"PHID\": -0.019579439252336264, \"PHIDshc\": 0.0, \"PHI_SIMANDOUX\": 0.11264760193061352, \"PHIN\": 0.003637, \"PHINshc\": 0.0, \"PHIxND\": 0.0, \"PHIE\": -0.019579439252336264}, {\"WELL\": \"LL-4\", \"DEPT\": 2533.0, \"GR\": 31.6401, \"CALI\": 12.05, \"MR\": 1.607, \"DR\": 1.7467, \"SR\": null, \"NPHI\": 0.3767, \"RHOB\": 2.266, \"DT\": 103.752, \"SP\": 106.4, \"VSH\": 0.1352, \"RW\": 0.11339, \"NPHI_corr\": 0.3367, \"VCLGR\": -0.05035205304701824, \"VCLRT\": 0.24411747867407177, \"VCLND\": 12.92200000000009, \"VCL\": 0.24411747867407177, \"PHISw\": 0.36416603773584905, \"PHISwshc\": 0.30060337347731714, \"PHISrhg\": 0.29066909553550774, \"PHISrhgshc\": 0.22710643127697583, \"PHID\": -0.01214953271028028, \"PHIDshc\": 0.03462063843755586, \"PHI_SIMANDOUX\": 0.09598606967961072, \"PHIN\": 0.003767, \"PHINshc\": 0.0, \"PHIxND\": 0.01731031921877793, \"PHIE\": -0.01214953271028028}, {\"WELL\": \"LL-4\", \"DEPT\": 2558.0, \"GR\": 24.66, \"CALI\": 11.71, \"MR\": 1.2682, \"DR\": 1.7723, \"SR\": null, \"NPHI\": 0.3428, \"RHOB\": 2.2189, \"DT\": 117.6, \"SP\": 105.7, \"VSH\": 0.0227, \"RW\": 0.11289, \"NPHI_corr\": 0.3028, \"VCLGR\": -0.08645635972079053, \"VCLRT\": 0.12503526491000425, \"VCLND\": 9.946000000000073, \"VCL\": 0.12503526491000425, \"PHISw\": 0.46867924528301885, \"PHISwshc\": 0.4361228932875838, \"PHISrhg\": 0.33003826530612246, \"PHISrhgshc\": 0.2974819133106874, \"PHID\": 0.009859813084112204, \"PHIDshc\": 0.033815167576215804, \"PHI_SIMANDOUX\": 0.01750008448627649, \"PHIN\": 0.003428, \"PHINshc\": 0.0, \"PHIxND\": 0.016907583788107902, \"PHIE\": 0.009859813084112204}, {\"WELL\": \"LL-4\", \"DEPT\": 2558.5, \"GR\": 26.1, \"CALI\": 11.69, \"MR\": 1.3646, \"DR\": 1.8359, \"SR\": null, \"NPHI\": 0.3365, \"RHOB\": 2.261, \"DT\": 116.88, \"SP\": 105.7, \"VSH\": 0.0459, \"RW\": 0.11288, \"NPHI_corr\": 0.29650000000000004, \"VCLGR\": -0.07941098599039628, \"VCLRT\": -0.15643553570455931, \"VCLND\": 10.410000000000077, \"VCL\": -0.15643553570455931, \"PHISw\": 0.4632452830188679, \"PHISwshc\": 0.5039775545796777, \"PHISrhg\": 0.3282212525667351, \"PHISrhgshc\": 0.3689535241275449, \"PHID\": -0.009813084112149489, \"PHIDshc\": 0.0, \"PHI_SIMANDOUX\": 0.033189656670355304, \"PHIN\": 0.0033650000000000004, \"PHINshc\": 0.0737609910670517, \"PHIxND\": 0.03688049553352585, \"PHIE\": -0.009813084112149489}, {\"WELL\": \"LL-4\", \"DEPT\": 2559.0, \"GR\": 26.31, \"CALI\": 11.84, \"MR\": 1.4647, \"DR\": 1.8812, \"SR\": null, \"NPHI\": 0.3356, \"RHOB\": 2.3086, \"DT\": 117.24, \"SP\": 105.1, \"VSH\": 0.0493, \"RW\": 0.11287, \"NPHI_corr\": 0.29560000000000003, \"VCLGR\": -0.07836664543929962, \"VCLRT\": -0.3453115032957685, \"VCLND\": 11.308000000000085, \"VCL\": -0.3453115032957685, \"PHISw\": 0.4659622641509434, \"PHISwshc\": 0.5558735612355019, \"PHISrhg\": 0.32913254861821906, \"PHISrhgshc\": 0.41904384570277764, \"PHID\": -0.032056074766355136, \"PHIDshc\": 0.0, \"PHI_SIMANDOUX\": 0.041581738356074954, \"PHIN\": 0.003356, \"PHINshc\": 0.1587461764830958, \"PHIxND\": 0.0793730882415479, \"PHIE\": -0.032056074766355136}, {\"WELL\": \"LL-4\", \"DEPT\": 2559.5, \"GR\": 25.33, \"CALI\": 11.89, \"MR\": 1.5596, \"DR\": 1.9, \"SR\": null, \"NPHI\": 0.3323, \"RHOB\": 2.3421, \"DT\": 117.6, \"SP\": 104.8, \"VSH\": 0.0335, \"RW\": 0.11286, \"NPHI_corr\": 0.2923, \"VCLGR\": -0.08320328914365833, \"VCLRT\": -0.42105263157894696, \"VCLND\": 11.78000000000008, \"VCL\": -0.42105263157894696, \"PHISw\": 0.46867924528301885, \"PHISwshc\": 0.5783118172790466, \"PHISrhg\": 0.33003826530612246, \"PHISrhgshc\": 0.4396708373021502, \"PHID\": -0.047710280373831605, \"PHIDshc\": 0.0, \"PHI_SIMANDOUX\": 0.04122208663659338, \"PHIN\": 0.003323, \"PHINshc\": 0.19279668421052612, \"PHIxND\": 0.09639834210526306, \"PHIE\": -0.047710280373831605}, {\"WELL\": \"LL-4\", \"DEPT\": 2560.0, \"GR\": 24.55, \"CALI\": 11.9, \"MR\": 1.6323, \"DR\": 1.9282, \"SR\": null, \"NPHI\": 0.3251, \"RHOB\": 2.3479, \"DT\": 117.18, \"SP\": 106.9, \"VSH\": 0.0209, \"RW\": 0.11285, \"NPHI_corr\": 0.2851, \"VCLGR\": -0.08698633295167146, \"VCLRT\": -0.531895031635722, \"VCLND\": 11.464000000000084, \"VCL\": -0.531895031635722, \"PHISw\": 0.4655094339622642, \"PHISwshc\": 0.6040028572938295, \"PHISrhg\": 0.32898105478750644, \"PHISrhgshc\": 0.46747447811907183, \"PHID\": -0.0504205607476635, \"PHIDshc\": 0.0, \"PHI_SIMANDOUX\": 0.03859431918112318, \"PHIN\": 0.003251, \"PHINshc\": 0.24260376423607488, \"PHIxND\": 0.12130188211803744, \"PHIE\": -0.0504205607476635}, {\"WELL\": \"LL-4\", \"DEPT\": 2560.5, \"GR\": 24.45, \"CALI\": 11.91, \"MR\": 1.6773, \"DR\": 1.93, \"SR\": null, \"NPHI\": 0.3223, \"RHOB\": 2.3359, \"DT\": 115.5, \"SP\": 107.0, \"VSH\": 0.0193, \"RW\": 0.11284, \"NPHI_corr\": 0.2823, \"VCLGR\": -0.08746712596022375, \"VCLRT\": -0.5388601036269427, \"VCLND\": 11.05600000000008, \"VCL\": -0.5388601036269427, \"PHISw\": 0.4528301886792453, \"PHISwshc\": 0.5931371590575814, \"PHISrhg\": 0.3246753246753247, \"PHISrhgshc\": 0.46498229505366073, \"PHID\": -0.04481308411214947, \"PHIDshc\": 0.0, \"PHI_SIMANDOUX\": 0.03450146741547802, \"PHIN\": 0.0032229999999999997, \"PHINshc\": 0.2457100466321242, \"PHIxND\": 0.1228550233160621, \"PHIE\": -0.04481308411214947}, {\"WELL\": \"LL-4\", \"DEPT\": 2561.0, \"GR\": 24.44, \"CALI\": 11.9, \"MR\": 1.6955, \"DR\": 1.9382, \"SR\": null, \"NPHI\": 0.3229, \"RHOB\": 2.318, \"DT\": 113.02, \"SP\": 106.4, \"VSH\": 0.0191, \"RW\": 0.11283, \"NPHI_corr\": 0.28290000000000004, \"VCLGR\": -0.0875151529123412, \"VCLRT\": -0.5704261686100502, \"VCLND\": 10.73400000000008, \"VCL\": -0.5704261686100502, \"PHISw\": 0.43411320754716975, \"PHISwshc\": 0.5826392665437489, \"PHISrhg\": 0.31808529463811713, \"PHISrhgshc\": 0.46661135363469625, \"PHID\": -0.036448598130841045, \"PHIDshc\": 0.0, \"PHI_SIMANDOUX\": 0.029097339274438385, \"PHIN\": 0.003229, \"PHINshc\": 0.2599207758745226, \"PHIxND\": 0.1299603879372613, \"PHIE\": -0.036448598130841045}, {\"WELL\": \"LL-4\", \"DEPT\": 2561.5, \"GR\": 25.32, \"CALI\": 11.88, \"MR\": 1.7012, \"DR\": 1.9476, \"SR\": null, \"NPHI\": 0.3225, \"RHOB\": 2.312, \"DT\": 111.14, \"SP\": 105.3, \"VSH\": 0.0333, \"RW\": 0.11282, \"NPHI_corr\": 0.28250000000000003, \"VCLGR\": -0.08325216043115687, \"VCLRT\": -0.6062846580406654, \"VCLND\": 10.590000000000073, \"VCL\": -0.6062846580406654, \"PHISw\": 0.4199245283018868, \"PHISwshc\": 0.5777873260558715, \"PHISrhg\": 0.31289364765161054, \"PHISrhgshc\": 0.47075644540559514, \"PHID\": -0.03364485981308393, \"PHIDshc\": 0.0, \"PHI_SIMANDOUX\": 0.033472874031386, \"PHIN\": 0.003225, \"PHINshc\": 0.2760530961182994, \"PHIxND\": 0.1380265480591497, \"PHIE\": -0.03364485981308393}, {\"WELL\": \"LL-4\", \"DEPT\": 2562.0, \"GR\": 27.22, \"CALI\": 11.87, \"MR\": 1.7022, \"DR\": 1.95, \"SR\": null, \"NPHI\": 0.3214, \"RHOB\": 2.3219, \"DT\": 112.86, \"SP\": 105.2, \"VSH\": 0.0639, \"RW\": 0.11281, \"NPHI_corr\": 0.28140000000000004, \"VCLGR\": -0.07379064261917163, \"VCLRT\": -0.6153846153846152, \"VCLND\": 10.722000000000074, \"VCL\": -0.6153846153846152, \"PHISw\": 0.4329056603773585, \"PHISwshc\": 0.5931378809869375, \"PHISrhg\": 0.31765018607123874, \"PHISrhgshc\": 0.47788240668081783, \"PHID\": -0.038271028037383005, \"PHIDshc\": 0.0, \"PHI_SIMANDOUX\": 0.05266821426172599, \"PHIN\": 0.0032140000000000003, \"PHINshc\": 0.2801370769230768, \"PHIxND\": 0.1400685384615384, \"PHIE\": -0.038271028037383005}, {\"WELL\": \"LL-4\", \"DEPT\": 2562.5, \"GR\": 28.42, \"CALI\": 11.82, \"MR\": 1.6946, \"DR\": 1.9565, \"SR\": null, \"NPHI\": 0.32, \"RHOB\": 2.33, \"DT\": 117.08, \"SP\": 104.4, \"VSH\": 0.0833, \"RW\": 0.1128, \"NPHI_corr\": 0.28, \"VCLGR\": -0.06762888821646432, \"VCLRT\": -0.6399182213135699, \"VCLND\": 10.800000000000079, \"VCL\": -0.6399182213135699, \"PHISw\": 0.4647547169811321, \"PHISwshc\": 0.6313749330967409, \"PHISrhg\": 0.3287282200204988, \"PHISrhgshc\": 0.4953484361361076, \"PHID\": -0.04205607476635507, \"PHIDshc\": 0.0, \"PHI_SIMANDOUX\": 0.0659833442042507, \"PHIN\": 0.0032, \"PHINshc\": 0.2911631995911065, \"PHIxND\": 0.14558159979555324, \"PHIE\": -0.04205607476635507}, {\"WELL\": \"LL-4\", \"DEPT\": 2563.0, \"GR\": 28.0, \"CALI\": 11.7, \"MR\": 1.6836, \"DR\": 1.96, \"SR\": null, \"NPHI\": 0.3197, \"RHOB\": 2.3263, \"DT\": 118.6, \"SP\": 105.7, \"VSH\": 0.0765, \"RW\": 0.11279, \"NPHI_corr\": 0.2797, \"VCLGR\": -0.06980217878186072, \"VCLRT\": -0.6530612244897958, \"VCLND\": 10.708000000000071, \"VCL\": -0.6530612244897958, \"PHISw\": 0.4762264150943396, \"PHISwshc\": 0.6462687716596072, \"PHISrhg\": 0.33252529510961215, \"PHISrhgshc\": 0.5025676516748797, \"PHID\": -0.04032710280373813, \"PHIDshc\": 0.0, \"PHI_SIMANDOUX\": 0.061149510302794995, \"PHIN\": 0.0031969999999999998, \"PHINshc\": 0.2970745510204081, \"PHIxND\": 0.14853727551020404, \"PHIE\": -0.04032710280373813}, {\"WELL\": \"LL-4\", \"DEPT\": 2563.5, \"GR\": 27.06, \"CALI\": 11.97, \"MR\": 1.6747, \"DR\": 1.9547, \"SR\": null, \"NPHI\": 0.3234, \"RHOB\": 2.3045, \"DT\": 107.88, \"SP\": 105.5, \"VSH\": 0.0613, \"RW\": 0.11278, \"NPHI_corr\": 0.28340000000000004, \"VCLGR\": -0.07460120137157543, \"VCLRT\": -0.6331406353916207, \"VCLND\": 10.494000000000076, \"VCL\": -0.6331406353916207, \"PHISw\": 0.3953207547169811, \"PHISwshc\": 0.5601762409132899, \"PHISrhg\": 0.3034621802002225, \"PHISrhgshc\": 0.4683176663965313, \"PHID\": -0.030140186915887747, \"PHIDshc\": 0.0, \"PHI_SIMANDOUX\": 0.04830176429140374, \"PHIN\": 0.0032340000000000003, \"PHINshc\": 0.2881472859262293, \"PHIxND\": 0.14407364296311465, \"PHIE\": -0.030140186915887747}, {\"WELL\": \"LL-4\", \"DEPT\": 2564.0, \"GR\": 26.17, \"CALI\": 11.98, \"MR\": 1.6711, \"DR\": 1.9359, \"SR\": null, \"NPHI\": 0.3359, \"RHOB\": 2.2746, \"DT\": 98.84, \"SP\": 105.5, \"VSH\": 0.047, \"RW\": 0.11277, \"NPHI_corr\": 0.2959, \"VCLGR\": -0.07906335494951378, \"VCLRT\": -0.5615992561599253, \"VCLND\": 10.646000000000074, \"VCL\": -0.5615992561599253, \"PHISw\": 0.32709433962264156, \"PHISwshc\": 0.47332207047182967, \"PHISrhg\": 0.2740540267098341, \"PHISrhgshc\": 0.4202817575590222, \"PHID\": -0.0161682242990653, \"PHIDshc\": 0.0, \"PHI_SIMANDOUX\": 0.03514549385756932, \"PHIN\": 0.0033589999999999996, \"PHINshc\": 0.2560786652719664, \"PHIxND\": 0.1280393326359832, \"PHIE\": -0.0161682242990653}, {\"WELL\": \"LL-4\", \"DEPT\": 2564.5, \"GR\": 26.08, \"CALI\": 11.83, \"MR\": 1.6791, \"DR\": 1.9118, \"SR\": null, \"NPHI\": 0.3492, \"RHOB\": 2.2447, \"DT\": 94.16, \"SP\": 105.0, \"VSH\": 0.0456, \"RW\": 0.11276, \"NPHI_corr\": 0.30920000000000003, \"VCLGR\": -0.07951022066134115, \"VCLRT\": -0.4678313631132961, \"VCLND\": 10.846000000000076, \"VCL\": -0.4678313631132961, \"PHISw\": 0.29177358490566035, \"PHISwshc\": 0.4135862794521412, \"PHISrhg\": 0.25661108751062023, \"PHISrhgshc\": 0.3784237820571011, \"PHID\": -0.002196261682242852, \"PHIDshc\": 0.0, \"PHI_SIMANDOUX\": 0.03228144641568039, \"PHIN\": 0.0034920000000000003, \"PHINshc\": 0.21401611340098323, \"PHIxND\": 0.10700805670049161, \"PHIE\": -0.002196261682242852}, {\"WELL\": \"LL-4\", \"DEPT\": 2565.0, \"GR\": 26.38, \"CALI\": 11.78, \"MR\": 1.6974, \"DR\": 1.8894, \"SR\": null, \"NPHI\": 0.3578, \"RHOB\": 2.2183, \"DT\": 94.22, \"SP\": 105.2, \"VSH\": 0.0504, \"RW\": 0.11275, \"NPHI_corr\": 0.3178, \"VCLGR\": -0.07801756563102305, \"VCLRT\": -0.3785328675770083, \"VCLND\": 10.834000000000081, \"VCL\": -0.3785328675770083, \"PHISw\": 0.2922264150943396, \"PHISwshc\": 0.39078780325590023, \"PHISrhg\": 0.2568456803226491, \"PHISrhgshc\": 0.3554070684842098, \"PHID\": 0.010140186915887875, \"PHIDshc\": 0.0, \"PHI_SIMANDOUX\": 0.03635232723423044, \"PHIN\": 0.003578, \"PHINshc\": 0.17391779040965374, \"PHIxND\": 0.08695889520482687, \"PHIE\": 0.010140186915887875}, {\"WELL\": \"LL-4\", \"DEPT\": 2565.5, \"GR\": 27.16, \"CALI\": 11.77, \"MR\": 1.7112, \"DR\": 1.8671, \"SR\": null, \"NPHI\": 0.3677, \"RHOB\": 2.2117, \"DT\": 97.1, \"SP\": 105.8, \"VSH\": 0.063, \"RW\": 0.11274, \"NPHI_corr\": 0.32770000000000005, \"VCLGR\": -0.07409490317484904, \"VCLRT\": -0.2875046864120827, \"VCLND\": 11.296000000000085, \"VCL\": -0.2875046864120827, \"PHISw\": 0.31396226415094336, \"PHISwshc\": 0.38882197495258, \"PHISrhg\": 0.2677651905252317, \"PHISrhgshc\": 0.3426249013268683, \"PHID\": 0.01322429906542066, \"PHIDshc\": 0.0, \"PHI_SIMANDOUX\": 0.0455185790956379, \"PHIN\": 0.003677, \"PHINshc\": 0.1330541088854372, \"PHIxND\": 0.0665270544427186, \"PHIE\": 0.01322429906542066}, {\"WELL\": \"LL-4\", \"DEPT\": 2566.0, \"GR\": 27.94, \"CALI\": 11.77, \"MR\": 1.713, \"DR\": 1.86, \"SR\": null, \"NPHI\": 0.3759, \"RHOB\": 2.2233, \"DT\": 101.045, \"SP\": 106.2, \"VSH\": 0.0755, \"RW\": 0.11273, \"NPHI_corr\": 0.33590000000000003, \"VCLGR\": -0.07011117582427635, \"VCLRT\": -0.2580645161290326, \"VCLND\": 12.020000000000092, \"VCL\": -0.2580645161290326, \"PHISw\": 0.34373584905660376, \"PHISwshc\": 0.4109300060864273, \"PHISrhg\": 0.2817123558810431, \"PHISrhgshc\": 0.34890651291086666, \"PHID\": 0.007803738317757083, \"PHIDshc\": 0.0, \"PHI_SIMANDOUX\": 0.05367098066801104, \"PHIN\": 0.003759, \"PHINshc\": 0.11988803225806466, \"PHIxND\": 0.05994401612903233, \"PHIE\": 0.007803738317757083}, {\"WELL\": \"LL-4\", \"DEPT\": 2566.5, \"GR\": 28.72, \"CALI\": 11.77, \"MR\": 1.7052, \"DR\": 1.8582, \"SR\": null, \"NPHI\": 0.3776, \"RHOB\": 2.2432, \"DT\": 100.118, \"SP\": 105.4, \"VSH\": 0.0881, \"RW\": 0.112721, \"NPHI_corr\": 0.3376, \"VCLGR\": -0.06606543296951642, \"VCLRT\": -0.25056506296415904, \"VCLND\": 12.520000000000085, \"VCL\": -0.25056506296415904, \"PHISw\": 0.3367396226415094, \"PHISwshc\": 0.4019810918661395, \"PHISrhg\": 0.278533830080505, \"PHISrhgshc\": 0.34377529930513506, \"PHID\": -0.0014953271028035735, \"PHIDshc\": 0.0, \"PHI_SIMANDOUX\": 0.062305080062320675, \"PHIN\": 0.003776, \"PHINshc\": 0.11653027833387157, \"PHIxND\": 0.058265139166935785, \"PHIE\": -0.0014953271028035735}, {\"WELL\": \"LL-4\", \"DEPT\": 2567.0, \"GR\": 30.06, \"CALI\": 11.77, \"MR\": 1.6786, \"DR\": 1.8488, \"SR\": null, \"NPHI\": 0.3691, \"RHOB\": 2.2632, \"DT\": 98.2636, \"SP\": 105.4, \"VSH\": 0.1097, \"RW\": 0.112711, \"NPHI_corr\": 0.3291, \"VCLGR\": -0.05896746875181829, \"VCLRT\": -0.21116399826914745, \"VCLND\": 12.410000000000087, \"VCL\": -0.21116399826914745, \"PHISw\": 0.3227441509433962, \"PHISwshc\": 0.3777264750210233, \"PHISrhg\": 0.27199542862260284, \"PHISrhgshc\": 0.3269777527002299, \"PHID\": -0.010841121495326947, \"PHIDshc\": 0.0, \"PHI_SIMANDOUX\": 0.07794748204809582, \"PHIN\": 0.003691, \"PHINshc\": 0.09871479922111634, \"PHIxND\": 0.04935739961055817, \"PHIE\": -0.010841121495326947}, {\"WELL\": \"LL-4\", \"DEPT\": 2567.5, \"GR\": 32.61, \"CALI\": 11.74, \"MR\": 1.6471, \"DR\": 1.84, \"SR\": null, \"NPHI\": 0.3564, \"RHOB\": 2.28, \"DT\": 97.6818, \"SP\": 105.5, \"VSH\": 0.1508, \"RW\": 0.112701, \"NPHI_corr\": 0.3164, \"VCLGR\": -0.04492862761525848, \"VCLRT\": -0.17391304347826106, \"VCLND\": 11.98400000000008, \"VCL\": -0.17391304347826106, \"PHISw\": 0.3183532075471698, \"PHISwshc\": 0.36363622641509435, \"PHISrhg\": 0.2698929073788567, \"PHISrhgshc\": 0.31517592624678126, \"PHID\": -0.018691588785046537, \"PHIDshc\": 0.0, \"PHI_SIMANDOUX\": 0.10744769772151769, \"PHIN\": 0.003564, \"PHINshc\": 0.08182486956521748, \"PHIxND\": 0.04091243478260874, \"PHIE\": -0.018691588785046537}, {\"WELL\": \"LL-4\", \"DEPT\": 2568.0, \"GR\": 36.29, \"CALI\": 11.74, \"MR\": 1.6293, \"DR\": 1.84, \"SR\": null, \"NPHI\": 0.3554, \"RHOB\": 2.28, \"DT\": 96.5727, \"SP\": 105.6, \"VSH\": 0.2101, \"RW\": 0.112691, \"NPHI_corr\": 0.3154, \"VCLGR\": -0.02337697749719861, \"VCLRT\": -0.17391304347826106, \"VCLND\": 11.924000000000081, \"VCL\": -0.17391304347826106, \"PHISw\": 0.30998264150943394, \"PHISwshc\": 0.3552656603773585, \"PHISrhg\": 0.2658146401622819, \"PHISrhgshc\": 0.3110976590302065, \"PHID\": -0.018691588785046537, \"PHIDshc\": 0.0, \"PHI_SIMANDOUX\": 0.14914990025358596, \"PHIN\": 0.003554, \"PHINshc\": 0.08181486956521747, \"PHIxND\": 0.040907434782608734, \"PHIE\": -0.018691588785046537}, {\"WELL\": \"LL-4\", \"DEPT\": 2568.5, \"GR\": 40.09, \"CALI\": 11.74, \"MR\": 1.6263, \"DR\": 1.84, \"SR\": null, \"NPHI\": 0.3658, \"RHOB\": 2.28, \"DT\": 95.2091, \"SP\": 105.8, \"VSH\": 0.2713, \"RW\": 0.112681, \"NPHI_corr\": 0.32580000000000003, \"VCLGR\": 0.0005887093888316853, \"VCLRT\": -0.17391304347826106, \"VCLND\": 12.548000000000089, \"VCL\": -0.17391304347826106, \"PHISw\": 0.29969132075471705, \"PHISwshc\": 0.3449743396226416, \"PHISrhg\": 0.26067032983191735, \"PHISrhgshc\": 0.3059533486998419, \"PHID\": -0.018691588785046537, \"PHIDshc\": 0.0, \"PHI_SIMANDOUX\": 0.19229283071829442, \"PHIN\": 0.0036580000000000002, \"PHINshc\": 0.08191886956521748, \"PHIxND\": 0.04095943478260874, \"PHIE\": -0.018691588785046537}, {\"WELL\": \"LL-4\", \"DEPT\": 2569.0, \"GR\": 43.24, \"CALI\": 11.76, \"MR\": 1.6278, \"DR\": 1.84, \"SR\": null, \"NPHI\": 0.374, \"RHOB\": 2.28, \"DT\": 94.8, \"SP\": 105.0, \"VSH\": 0.3221, \"RW\": 0.112671, \"NPHI_corr\": 0.334, \"VCLGR\": 0.021868764929211536, \"VCLRT\": -0.17391304347826106, \"VCLND\": 13.040000000000093, \"VCL\": -0.17391304347826106, \"PHISw\": 0.29660377358490564, \"PHISwshc\": 0.3418867924528302, \"PHISrhg\": 0.2590981012658228, \"PHISrhgshc\": 0.30438112013374735, \"PHID\": -0.018691588785046537, \"PHIDshc\": 0.0, \"PHI_SIMANDOUX\": 0.2281422642687116, \"PHIN\": 0.00374, \"PHINshc\": 0.08200086956521747, \"PHIxND\": 0.04100043478260874, \"PHIE\": -0.018691588785046537}, {\"WELL\": \"LL-4\", \"DEPT\": 2569.5, \"GR\": 45.37, \"CALI\": 11.77, \"MR\": 1.6353, \"DR\": 1.852, \"SR\": null, \"NPHI\": 0.3762, \"RHOB\": 2.2814, \"DT\": 96.4727, \"SP\": 104.5, \"VSH\": 0.3564, \"RW\": 0.112661, \"NPHI_corr\": 0.3362, \"VCLGR\": 0.03702913659254091, \"VCLRT\": -0.22462203023758123, \"VCLND\": 13.200000000000099, \"VCL\": -0.22462203023758123, \"PHISw\": 0.3092279245283019, \"PHISwshc\": 0.3677144154203513, \"PHISrhg\": 0.2654423220247801, \"PHISrhgshc\": 0.3239288129168295, \"PHID\": -0.01934579439252331, \"PHIDshc\": 0.0, \"PHI_SIMANDOUX\": 0.25238385423861587, \"PHIN\": 0.0037619999999999997, \"PHINshc\": 0.10484191360691156, \"PHIxND\": 0.05242095680345578, \"PHIE\": -0.01934579439252331}, {\"WELL\": \"LL-4\", \"DEPT\": 2570.0, \"GR\": 46.39, \"CALI\": 11.78, \"MR\": 1.6459, \"DR\": 1.878, \"SR\": null, \"NPHI\": 0.3819, \"RHOB\": 2.2914, \"DT\": 101.682, \"SP\": 105.0, \"VSH\": 0.3728, \"RW\": 0.112651, \"NPHI_corr\": 0.34190000000000004, \"VCLGR\": 0.044518621527343254, \"VCLRT\": -0.3322683706070282, \"VCLND\": 13.7420000000001, \"VCL\": -0.3322683706070282, \"PHISw\": 0.3485433962264151, \"PHISwshc\": 0.4350585568750375, \"PHISrhg\": 0.28386292559155013, \"PHISrhgshc\": 0.37037808624017254, \"PHID\": -0.02401869158878489, \"PHIDshc\": 0.0, \"PHI_SIMANDOUX\": 0.2641559553991138, \"PHIN\": 0.0038190000000000003, \"PHINshc\": 0.1533397667731627, \"PHIxND\": 0.07666988338658134, \"PHIE\": -0.02401869158878489}, {\"WELL\": \"LL-4\", \"DEPT\": 2570.5, \"GR\": 46.0, \"CALI\": 11.83, \"MR\": 1.652, \"DR\": 1.91, \"SR\": null, \"NPHI\": 0.3925, \"RHOB\": 2.3013, \"DT\": 111.609, \"SP\": 104.7, \"VSH\": 0.3666, \"RW\": 0.112641, \"NPHI_corr\": 0.35250000000000004, \"VCLGR\": 0.041637116694478, \"VCLRT\": -0.46073298429319337, \"VCLND\": 14.576000000000102, \"VCL\": -0.46073298429319337, \"PHISw\": 0.4234641509433962, \"PHISwshc\": 0.5434285883631333, \"PHISrhg\": 0.31420517162594414, \"PHISrhgshc\": 0.43416960904568125, \"PHID\": -0.028644859813083966, \"PHIDshc\": 0.0, \"PHI_SIMANDOUX\": 0.26001546876456333, \"PHIN\": 0.0039250000000000005, \"PHINshc\": 0.211254842931937, \"PHIxND\": 0.1056274214659685, \"PHIE\": -0.028644859813083966}, {\"WELL\": \"LL-4\", \"DEPT\": 2571.0, \"GR\": 44.04, \"CALI\": 11.99, \"MR\": 1.652, \"DR\": 1.97, \"SR\": null, \"NPHI\": 0.4034, \"RHOB\": 2.3139, \"DT\": 136.0, \"SP\": 103.5, \"VSH\": 0.335, \"RW\": 0.112631, \"NPHI_corr\": 0.3634, \"VCLGR\": 0.027487945720875057, \"VCLRT\": -0.6903553299492385, \"VCLND\": 15.482000000000111, \"VCL\": -0.6903553299492385, \"PHISw\": 0.6075471698113207, \"PHISwshc\": 0.7873000670433866, \"PHISrhg\": 0.36994485294117646, \"PHISrhgshc\": 0.5496977501732423, \"PHID\": -0.034532710280373656, \"PHIDshc\": 0.0, \"PHI_SIMANDOUX\": 0.2381359990418377, \"PHIN\": 0.004033999999999999, \"PHINshc\": 0.31469389847715734, \"PHIxND\": 0.15734694923857867, \"PHIE\": -0.034532710280373656}, {\"WELL\": \"LL-4\", \"DEPT\": 2571.5, \"GR\": 41.36, \"CALI\": 12.0, \"MR\": 1.6563, \"DR\": 2.0614, \"SR\": null, \"NPHI\": 0.4145, \"RHOB\": 2.3438, \"DT\": 158.255, \"SP\": 103.7, \"VSH\": 0.2918, \"RW\": 0.112621, \"NPHI_corr\": 0.3745, \"VCLGR\": 0.009008904323524806, \"VCLRT\": -1.014456194819055, \"VCLND\": 16.74600000000012, \"VCL\": -1.014456194819055, \"PHISw\": 0.7755094339622641, \"PHISwshc\": 1.0, \"PHISrhg\": 0.40581261255568546, \"PHISrhgshc\": 0.669954036867062, \"PHID\": -0.04850467289719611, \"PHIDshc\": 0.0, \"PHI_SIMANDOUX\": 0.2091649388555166, \"PHIN\": 0.004144999999999999, \"PHINshc\": 0.4606502876685747, \"PHIxND\": 0.23032514383428734, \"PHIE\": -0.04850467289719611}, {\"WELL\": \"LL-4\", \"DEPT\": 2572.0, \"GR\": 39.92, \"CALI\": 12.03, \"MR\": 1.6805, \"DR\": 2.2086, \"SR\": null, \"NPHI\": 0.417, \"RHOB\": 2.3724, \"DT\": 153.691, \"SP\": 104.7, \"VSH\": 0.2686, \"RW\": 0.112611, \"NPHI_corr\": 0.377, \"VCLGR\": -0.0005224170647271032, \"VCLRT\": -1.4800325998370014, \"VCLND\": 17.46800000000012, \"VCL\": -1.4800325998370014, \"PHISw\": 0.7410641509433963, \"PHISwshc\": 1.0, \"PHISrhg\": 0.3993036352161155, \"PHISrhgshc\": 0.7846706140415989, \"PHID\": -0.0618691588785045, \"PHIDshc\": 0.0, \"PHI_SIMANDOUX\": 0.19490222269170462, \"PHIN\": 0.00417, \"PHINshc\": 0.6701846699266507, \"PHIxND\": 0.33509233496332536, \"PHIE\": -0.0618691588785045}, {\"WELL\": \"LL-4\", \"DEPT\": 2572.5, \"GR\": 40.03, \"CALI\": 12.14, \"MR\": 1.7208, \"DR\": 2.4086, \"SR\": null, \"NPHI\": 0.3988, \"RHOB\": 2.3888, \"DT\": 134.845, \"SP\": 104.8, \"VSH\": 0.2704, \"RW\": 0.112602, \"NPHI_corr\": 0.3588, \"VCLGR\": 0.00019611988528037472, \"VCLRT\": -2.0214232334136013, \"VCLND\": 16.704000000000114, \"VCL\": -2.0214232334136013, \"PHISw\": 0.5988301886792453, \"PHISwshc\": 1.0, \"PHISrhg\": 0.3677602061626312, \"PHISrhgshc\": 0.8940930480703235, \"PHID\": -0.06953271028037364, \"PHIDshc\": 0.0, \"PHI_SIMANDOUX\": 0.19742208310993778, \"PHIN\": 0.003988, \"PHINshc\": 0.9136284550361204, \"PHIxND\": 0.4568142275180602, \"PHIE\": -0.06953271028037364}, {\"WELL\": \"LL-4\", \"DEPT\": 2573.0, \"GR\": 40.16, \"CALI\": 12.16, \"MR\": 1.7933, \"DR\": 2.6329, \"SR\": null, \"NPHI\": 0.3676, \"RHOB\": 2.3788, \"DT\": 122.191, \"SP\": 104.9, \"VSH\": 0.2724, \"RW\": 0.112592, \"NPHI_corr\": 0.3276, \"VCLGR\": 0.0010473204640339873, \"VCLRT\": -2.530745565726005, \"VCLND\": 14.632000000000103, \"VCL\": -2.530745565726005, \"PHISw\": 0.5033283018867925, \"PHISwshc\": 1.0, \"PHISrhg\": 0.3411206635513254, \"PHISrhgshc\": 1.0, \"PHID\": -0.06485981308411205, \"PHIDshc\": 0.0, \"PHI_SIMANDOUX\": 0.1980007012024275, \"PHIN\": 0.003676, \"PHINshc\": 1.0, \"PHIxND\": 0.5, \"PHIE\": -0.06485981308411205}, {\"WELL\": \"LL-4\", \"DEPT\": 2573.5, \"GR\": 39.94, \"CALI\": 12.17, \"MR\": 1.9578, \"DR\": 2.8614, \"SR\": null, \"NPHI\": 0.3532, \"RHOB\": 2.3689, \"DT\": 132.155, \"SP\": 103.6, \"VSH\": 0.2689, \"RW\": 0.112582, \"NPHI_corr\": 0.31320000000000003, \"VCLGR\": -0.0003918903837080201, \"VCLRT\": -2.9674984273432594, \"VCLND\": 13.570000000000096, \"VCL\": -2.9674984273432594, \"PHISw\": 0.5785283018867925, \"PHISwshc\": 1.0, \"PHISrhg\": 0.3625241194052438, \"PHISrhgshc\": 1.0, \"PHID\": -0.06023364485981298, \"PHIDshc\": 0.0, \"PHI_SIMANDOUX\": 0.19485289576126147, \"PHIN\": 0.003532, \"PHINshc\": 1.0, \"PHIxND\": 0.5, \"PHIE\": -0.06023364485981298}, {\"WELL\": \"LL-4\", \"DEPT\": 2574.0, \"GR\": 38.82, \"CALI\": 12.18, \"MR\": 2.2909, \"DR\": 3.05, \"SR\": null, \"NPHI\": 0.3765, \"RHOB\": 2.3589, \"DT\": 148.518, \"SP\": 102.4, \"VSH\": 0.2509, \"RW\": 0.112572, \"NPHI_corr\": 0.3365, \"VCLGR\": -0.00762234743227806, \"VCLRT\": -3.2786885245901645, \"VCLND\": 14.768000000000109, \"VCL\": -3.2786885245901645, \"PHISw\": 0.7020226415094339, \"PHISwshc\": 1.0, \"PHISrhg\": 0.3914424514200299, \"PHISrhgshc\": 1.0, \"PHID\": -0.0555607476635514, \"PHIDshc\": 0.0, \"PHI_SIMANDOUX\": 0.1817110435291879, \"PHIN\": 0.003765, \"PHINshc\": 1.0, \"PHIxND\": 0.5, \"PHIE\": -0.0555607476635514}, {\"WELL\": \"LL-4\", \"DEPT\": 2595.5, \"GR\": 24.89, \"CALI\": 12.7, \"MR\": 5.4325, \"DR\": 2.73, \"SR\": null, \"NPHI\": 0.3312, \"RHOB\": 2.2255, \"DT\": 98.8, \"SP\": 105.6, \"VSH\": 0.0264, \"RW\": 0.112148, \"NPHI_corr\": 0.2912, \"VCLGR\": -0.08534449610206557, \"VCLRT\": -2.725274725274726, \"VCLND\": 9.382000000000064, \"VCL\": -2.725274725274726, \"PHISw\": 0.32679245283018865, \"PHISwshc\": 1.0, \"PHISrhg\": 0.2739119433198381, \"PHISrhgshc\": 0.9835117774479742, \"PHID\": 0.006775700934579626, \"PHIDshc\": 0.0, \"PHI_SIMANDOUX\": 0.019272650611097362, \"PHIN\": 0.003312, \"PHINshc\": 1.0, \"PHIxND\": 0.5, \"PHIE\": 0.006775700934579626}, {\"WELL\": \"LL-4\", \"DEPT\": 2596.0, \"GR\": 25.84, \"CALI\": 12.56, \"MR\": 4.1082, \"DR\": 1.91, \"SR\": null, \"NPHI\": 0.3704, \"RHOB\": 2.1575, \"DT\": 108.8, \"SP\": 105.4, \"VSH\": 0.0417, \"RW\": 0.112138, \"NPHI_corr\": 0.3304, \"VCLGR\": -0.08069797595459598, \"VCLRT\": -0.46073298429319337, \"VCLND\": 10.374000000000077, \"VCL\": -0.46073298429319337, \"PHISw\": 0.4022641509433962, \"PHISwshc\": 0.5222285883631334, \"PHISrhg\": 0.3061810661764706, \"PHISrhgshc\": 0.42614550359620773, \"PHID\": 0.03855140186915888, \"PHIDshc\": 0.0, \"PHI_SIMANDOUX\": 0.04015657222720452, \"PHIN\": 0.0037040000000000003, \"PHINshc\": 0.21103384293193703, \"PHIxND\": 0.10551692146596851, \"PHIE\": 0.03855140186915888}, {\"WELL\": \"LL-4\", \"DEPT\": 2620.0, \"GR\": 31.14, \"CALI\": 12.49, \"MR\": 1.3836, \"DR\": 1.74, \"SR\": null, \"NPHI\": 0.3992, \"RHOB\": 2.24, \"DT\": 105.0, \"SP\": 103.6, \"VSH\": 0.1271, \"RW\": 0.111668, \"NPHI_corr\": 0.3592, \"VCLGR\": -0.05310803923836038, \"VCLRT\": 0.27586206896551757, \"VCLND\": 13.752000000000105, \"VCL\": 0.27586206896551757, \"PHISw\": 0.37358490566037733, \"PHISwshc\": 0.30175666883539354, \"PHISrhg\": 0.29464285714285715, \"PHISrhgshc\": 0.22281462031787333, \"PHID\": 0.0, \"PHIDshc\": 0.05285207863358043, \"PHI_SIMANDOUX\": 0.08987327188881018, \"PHIN\": 0.003992, \"PHINshc\": 0.0, \"PHIxND\": 0.026426039316790214, \"PHIE\": 0.0}, {\"WELL\": \"LL-4\", \"DEPT\": 2620.5, \"GR\": 31.15, \"CALI\": 12.5, \"MR\": 1.4521, \"DR\": 1.79, \"SR\": null, \"NPHI\": 0.4107, \"RHOB\": 2.24, \"DT\": 105.6, \"SP\": 105.8, \"VSH\": 0.1273, \"RW\": 0.111658, \"NPHI_corr\": 0.37070000000000003, \"VCLGR\": -0.05305319755608239, \"VCLRT\": 0.04469273743016765, \"VCLND\": 14.442000000000107, \"VCL\": 0.04469273743016765, \"PHISw\": 0.37811320754716976, \"PHISwshc\": 0.36647623063139023, \"PHISrhg\": 0.29651988636363635, \"PHISrhgshc\": 0.2848829094478569, \"PHID\": 0.0, \"PHIDshc\": 0.008562627264658281, \"PHI_SIMANDOUX\": 0.0900146932450475, \"PHIN\": 0.004107, \"PHINshc\": 0.0, \"PHIxND\": 0.004281313632329141, \"PHIE\": 0.0}, {\"WELL\": \"LL-4\", \"DEPT\": 2621.0, \"GR\": 30.13, \"CALI\": 12.51, \"MR\": 1.5171, \"DR\": 1.83, \"SR\": null, \"NPHI\": 0.4227, \"RHOB\": 2.2404, \"DT\": 105.7, \"SP\": 106.5, \"VSH\": 0.1108, \"RW\": 0.111649, \"NPHI_corr\": 0.38270000000000004, \"VCLGR\": -0.05859147732488679, \"VCLRT\": -0.1311475409836067, \"VCLND\": 15.170000000000112, \"VCL\": -0.1311475409836067, \"PHISw\": 0.3788679245283019, \"PHISwshc\": 0.4130157748221467, \"PHISrhg\": 0.2968306527909177, \"PHISrhgshc\": 0.33097850308476245, \"PHID\": -0.00018691588785044668, \"PHIDshc\": 0.0, \"PHI_SIMANDOUX\": 0.07834754283814244, \"PHIN\": 0.004227, \"PHINshc\": 0.06324339344262302, \"PHIxND\": 0.03162169672131151, \"PHIE\": -0.00018691588785044668}, {\"WELL\": \"LL-4\", \"DEPT\": 2621.5, \"GR\": 29.22, \"CALI\": 12.51, \"MR\": 1.5704, \"DR\": 1.86, \"SR\": null, \"NPHI\": 0.4227, \"RHOB\": 2.2513, \"DT\": 104.3, \"SP\": 107.0, \"VSH\": 0.0962, \"RW\": 0.111639, \"NPHI_corr\": 0.38270000000000004, \"VCLGR\": -0.06343894338882934, \"VCLRT\": -0.2580645161290326, \"VCLND\": 15.38800000000011, \"VCL\": -0.2580645161290326, \"PHISw\": 0.3683018867924528, \"PHISwshc\": 0.43549604382227636, \"PHISrhg\": 0.2924256951102589, \"PHISrhgshc\": 0.35961985214008246, \"PHID\": -0.005280373831775638, \"PHIDshc\": 0.0, \"PHI_SIMANDOUX\": 0.06812606824044413, \"PHIN\": 0.004227, \"PHINshc\": 0.12035603225806467, \"PHIxND\": 0.060178016129032334, \"PHIE\": -0.005280373831775638}, {\"WELL\": \"LL-4\", \"DEPT\": 2622.0, \"GR\": 29.68, \"CALI\": 12.51, \"MR\": 1.6106, \"DR\": 1.87, \"SR\": null, \"NPHI\": 0.4045, \"RHOB\": 2.2809, \"DT\": 101.2, \"SP\": 105.5, \"VSH\": 0.1036, \"RW\": 0.111629, \"NPHI_corr\": 0.36450000000000005, \"VCLGR\": -0.06099949491993487, \"VCLRT\": -0.29946524064171154, \"VCLND\": 14.888000000000106, \"VCL\": -0.29946524064171154, \"PHISw\": 0.34490566037735854, \"PHISwshc\": 0.4228796286953891, \"PHISrhg\": 0.2822381422924901, \"PHISrhgshc\": 0.36021211061052066, \"PHID\": -0.019112149532710145, \"PHIDshc\": 0.0, \"PHI_SIMANDOUX\": 0.07449239645682193, \"PHIN\": 0.004045, \"PHINshc\": 0.13880435828877022, \"PHIxND\": 0.06940217914438511, \"PHIE\": -0.019112149532710145}, {\"WELL\": \"LL-4\", \"DEPT\": 2622.5, \"GR\": 31.5, \"CALI\": 12.51, \"MR\": 1.6368, \"DR\": 1.89, \"SR\": null, \"NPHI\": 0.3855, \"RHOB\": 2.3008, \"DT\": 98.8, \"SP\": 103.7, \"VSH\": 0.1329, \"RW\": 0.111619, \"NPHI_corr\": 0.34550000000000003, \"VCLGR\": -0.051126880208635476, \"VCLRT\": -0.38095238095238043, \"VCLND\": 14.146000000000104, \"VCL\": -0.38095238095238043, \"PHISw\": 0.32679245283018865, \"PHISwshc\": 0.4259838274932613, \"PHISrhg\": 0.2739119433198381, \"PHISrhgshc\": 0.37310331798291074, \"PHID\": -0.02841121495327101, \"PHIDshc\": 0.0, \"PHI_SIMANDOUX\": 0.09609788534385386, \"PHIN\": 0.003855, \"PHINshc\": 0.1752835714285712, \"PHIxND\": 0.0876417857142856, \"PHIE\": -0.02841121495327101}, {\"WELL\": \"LL-4\", \"DEPT\": 2623.0, \"GR\": 32.93, \"CALI\": 12.44, \"MR\": 1.6368, \"DR\": 1.898, \"SR\": null, \"NPHI\": 0.3829, \"RHOB\": 2.3204, \"DT\": 97.4, \"SP\": 103.7, \"VSH\": 0.1559, \"RW\": 0.11161, \"NPHI_corr\": 0.34290000000000004, \"VCLGR\": -0.043116295170292876, \"VCLRT\": -0.41306638566912496, \"VCLND\": 14.382000000000101, \"VCL\": -0.41306638566912496, \"PHISw\": 0.3162264150943397, \"PHISwshc\": 0.42377954947611185, \"PHISrhg\": 0.26886550308008217, \"PHISrhgshc\": 0.37641863746185433, \"PHID\": -0.03757009345794373, \"PHIDshc\": 0.0, \"PHI_SIMANDOUX\": 0.1133938312308889, \"PHIN\": 0.0038290000000000004, \"PHINshc\": 0.18970887355110622, \"PHIxND\": 0.09485443677555311, \"PHIE\": -0.03757009345794373}, {\"WELL\": \"LL-4\", \"DEPT\": 2623.5, \"GR\": 32.85, \"CALI\": 12.34, \"MR\": 1.6391, \"DR\": 1.912, \"SR\": null, \"NPHI\": 0.3929, \"RHOB\": 2.3296, \"DT\": 98.1, \"SP\": 105.4, \"VSH\": 0.1546, \"RW\": 0.1116, \"NPHI_corr\": 0.35290000000000005, \"VCLGR\": -0.043570455603611564, \"VCLRT\": -0.4686192468619243, \"VCLND\": 15.166000000000112, \"VCL\": -0.4686192468619243, \"PHISw\": 0.3215094339622641, \"PHISwshc\": 0.4435272755980104, \"PHISrhg\": 0.27140672782874614, \"PHISrhgshc\": 0.39342456946449245, \"PHID\": -0.04186915887850463, \"PHIDshc\": 0.0, \"PHI_SIMANDOUX\": 0.11325675799967404, \"PHIN\": 0.003929, \"PHINshc\": 0.21480766108786592, \"PHIxND\": 0.10740383054393296, \"PHIE\": -0.04186915887850463}, {\"WELL\": \"LL-4\", \"DEPT\": 2624.0, \"GR\": 30.74, \"CALI\": 12.24, \"MR\": 1.6436, \"DR\": 1.924, \"SR\": null, \"NPHI\": 0.4004, \"RHOB\": 2.3196, \"DT\": 101.2, \"SP\": 104.8, \"VSH\": 0.1206, \"RW\": 0.11159, \"NPHI_corr\": 0.3604, \"VCLGR\": -0.055292824305975485, \"VCLRT\": -0.5155925155925153, \"VCLND\": 15.416000000000107, \"VCL\": -0.5155925155925153, \"PHISw\": 0.34490566037735854, \"PHISwshc\": 0.47915427764484364, \"PHISrhg\": 0.2822381422924901, \"PHISrhgshc\": 0.4164867595599752, \"PHID\": -0.03719626168224283, \"PHIDshc\": 0.0, \"PHI_SIMANDOUX\": 0.08924102723280893, \"PHIN\": 0.004004, \"PHINshc\": 0.2360206320166319, \"PHIxND\": 0.11801031600831595, \"PHIE\": -0.03719626168224283}, {\"WELL\": \"LL-4\", \"DEPT\": 2624.5, \"GR\": 28.26, \"CALI\": 12.25, \"MR\": 1.652, \"DR\": 1.93, \"SR\": null, \"NPHI\": 0.3997, \"RHOB\": 2.3096, \"DT\": 101.9, \"SP\": 105.4, \"VSH\": 0.0807, \"RW\": 0.111581, \"NPHI_corr\": 0.3597, \"VCLGR\": -0.06845894065173877, \"VCLRT\": -0.5388601036269427, \"VCLND\": 15.17400000000011, \"VCL\": -0.5388601036269427, \"PHISw\": 0.3501886792452831, \"PHISwshc\": 0.49049564962361913, \"PHISrhg\": 0.2845927379784102, \"PHISrhgshc\": 0.4248997083567463, \"PHID\": -0.032523364485981254, \"PHIDshc\": 0.0, \"PHI_SIMANDOUX\": 0.06152340708010239, \"PHIN\": 0.003997, \"PHINshc\": 0.2464840466321242, \"PHIxND\": 0.1232420233160621, \"PHIE\": -0.032523364485981254}, {\"WELL\": \"LL-4\", \"DEPT\": 2625.0, \"GR\": 26.04, \"CALI\": 12.32, \"MR\": 1.6673, \"DR\": 1.93, \"SR\": null, \"NPHI\": 0.3903, \"RHOB\": 2.2992, \"DT\": 101.533, \"SP\": 105.2, \"VSH\": 0.0449, \"RW\": 0.111571, \"NPHI_corr\": 0.3503, \"VCLGR\": -0.07970857212631517, \"VCLRT\": -0.5388601036269427, \"VCLND\": 14.402000000000102, \"VCL\": -0.5388601036269427, \"PHISw\": 0.3474188679245283, \"PHISwshc\": 0.4877258383028643, \"PHISrhg\": 0.2833623058512996, \"PHISrhgshc\": 0.4236692762296357, \"PHID\": -0.027663551401869015, \"PHIDshc\": 0.0, \"PHI_SIMANDOUX\": 0.03729129976391175, \"PHIN\": 0.003903, \"PHINshc\": 0.24639004663212422, \"PHIxND\": 0.12319502331606211, \"PHIE\": -0.027663551401869015}, {\"WELL\": \"LL-4\", \"DEPT\": 2625.5, \"GR\": 24.93, \"CALI\": 12.36, \"MR\": 1.7061, \"DR\": 1.93, \"SR\": null, \"NPHI\": 0.3757, \"RHOB\": 2.2792, \"DT\": 102.333, \"SP\": 105.4, \"VSH\": 0.027, \"RW\": 0.111561, \"NPHI_corr\": 0.3357, \"VCLGR\": -0.08515061100570262, \"VCLRT\": -0.5388601036269427, \"VCLND\": 13.126000000000088, \"VCL\": -0.5388601036269427, \"PHISw\": 0.3534566037735849, \"PHISwshc\": 0.49376357415192096, \"PHISrhg\": 0.2860330978276802, \"PHISrhgshc\": 0.4263400682060162, \"PHID\": -0.018317757009345643, \"PHIDshc\": 0.0, \"PHI_SIMANDOUX\": 0.0230709798432298, \"PHIN\": 0.003757, \"PHINshc\": 0.2462440466321242, \"PHIxND\": 0.1231220233160621, \"PHIE\": -0.018317757009345643}, {\"WELL\": \"LL-4\", \"DEPT\": 2626.0, \"GR\": 25.39, \"CALI\": 12.78, \"MR\": 1.754, \"DR\": 1.9282, \"SR\": null, \"NPHI\": 0.3676, \"RHOB\": 2.2588, \"DT\": 102.0, \"SP\": 105.5, \"VSH\": 0.0344, \"RW\": 0.111551, \"NPHI_corr\": 0.3276, \"VCLGR\": -0.08290985808145553, \"VCLRT\": -0.531895031635722, \"VCLND\": 12.232000000000085, \"VCL\": -0.531895031635722, \"PHISw\": 0.35094339622641507, \"PHISwshc\": 0.48943681955798046, \"PHISrhg\": 0.2849264705882353, \"PHISrhgshc\": 0.4234198939198006, \"PHID\": -0.008785046728971825, \"PHIDshc\": 0.0, \"PHI_SIMANDOUX\": 0.025105149332659015, \"PHIN\": 0.003676, \"PHINshc\": 0.2430287642360749, \"PHIxND\": 0.12151438211803745, \"PHIE\": -0.008785046728971825}, {\"WELL\": \"LL-4\", \"DEPT\": 2626.5, \"GR\": 26.51, \"CALI\": 12.35, \"MR\": 1.794, \"DR\": 1.9064, \"SR\": null, \"NPHI\": 0.3795, \"RHOB\": 2.2284, \"DT\": 108.0, \"SP\": 104.3, \"VSH\": 0.0525, \"RW\": 0.111542, \"NPHI_corr\": 0.3395, \"VCLGR\": -0.07736798927002539, \"VCLRT\": -0.4464960134284519, \"VCLND\": 12.33800000000009, \"VCL\": -0.4464960134284519, \"PHISw\": 0.39622641509433965, \"PHISwshc\": 0.5124838676474083, \"PHISrhg\": 0.3038194444444444, \"PHISrhgshc\": 0.42007689699751305, \"PHID\": 0.0054205607476635765, \"PHIDshc\": 0.0, \"PHI_SIMANDOUX\": 0.03732045336554147, \"PHIN\": 0.003795, \"PHINshc\": 0.20471820604280336, \"PHIxND\": 0.10235910302140168, \"PHIE\": 0.0054205607476635765}, {\"WELL\": \"LL-4\", \"DEPT\": 2627.0, \"GR\": 27.82, \"CALI\": 12.27, \"MR\": 1.8, \"DR\": 1.8373, \"SR\": null, \"NPHI\": 0.4116, \"RHOB\": 2.1892, \"DT\": 118.9, \"SP\": 105.4, \"VSH\": 0.0736, \"RW\": 0.111532, \"NPHI_corr\": 0.37160000000000004, \"VCLGR\": -0.0707280694996985, \"VCLRT\": -0.1624122353453433, \"VCLND\": 13.480000000000096, \"VCL\": -0.1624122353453433, \"PHISw\": 0.4784905660377359, \"PHISwshc\": 0.5207790348635045, \"PHISrhg\": 0.3332632464255677, \"PHISrhgshc\": 0.37555171525133635, \"PHID\": 0.02373831775700943, \"PHIDshc\": 0.0, \"PHI_SIMANDOUX\": 0.054683030868509605, \"PHIN\": 0.004116, \"PHINshc\": 0.07720150590540448, \"PHIxND\": 0.03860075295270224, \"PHIE\": 0.02373831775700943}, {\"WELL\": \"LL-4\", \"DEPT\": 2627.5, \"GR\": 28.01, \"CALI\": 11.88, \"MR\": 1.7835, \"DR\": 1.7255, \"SR\": null, \"NPHI\": 0.4463, \"RHOB\": 2.1692, \"DT\": 130.2, \"SP\": 105.1, \"VSH\": 0.0767, \"RW\": 0.111522, \"NPHI_corr\": 0.4063, \"VCLGR\": -0.06975064356862656, \"VCLRT\": 0.34540712836858894, \"VCLND\": 15.162000000000107, \"VCL\": 0.34540712836858894, \"PHISw\": 0.5637735849056603, \"PHISwshc\": 0.4738373892172353, \"PHISrhg\": 0.3585829493087557, \"PHISrhgshc\": 0.2686467536203307, \"PHID\": 0.0330841121495328, \"PHIDshc\": 0.09926024422015026, \"PHI_SIMANDOUX\": 0.05906542337409792, \"PHIN\": 0.004463, \"PHINshc\": 0.0, \"PHIxND\": 0.04963012211007513, \"PHIE\": 0.0330841121495328}, {\"WELL\": \"LL-4\", \"DEPT\": 2646.5, \"GR\": 34.91, \"CALI\": 11.95, \"MR\": 1.3804, \"DR\": 1.7, \"SR\": null, \"NPHI\": 0.4198, \"RHOB\": 2.2407, \"DT\": 100.96, \"SP\": 105.2, \"VSH\": 0.1878, \"RW\": 0.111154, \"NPHI_corr\": 0.3798, \"VCLGR\": -0.03164344928571362, \"VCLRT\": 0.47058823529411825, \"VCLND\": 15.002000000000105, \"VCL\": 0.47058823529411825, \"PHISw\": 0.34309433962264146, \"PHISwshc\": 0.220563817980022, \"PHISrhg\": 0.28142333597464336, \"PHISrhgshc\": 0.1588928143320239, \"PHID\": -0.00032710280373817797, \"PHIDshc\": 0.08983232545354608, \"PHI_SIMANDOUX\": 0.13279485493844295, \"PHIN\": 0.004198, \"PHINshc\": 0.0, \"PHIxND\": 0.04491616272677304, \"PHIE\": -0.00032710280373817797}], \"data-fbc1a61ee71cde79dc177c9b4c78da87\": [{\"DR\": 10.799999999999999, \"PHIE\": 0.01, \"SW\": \"SW 100%\"}, {\"DR\": 0.108, \"PHIE\": 1.0, \"SW\": \"SW 100%\"}], \"data-83afc133833c73d2775c3a66d3886d6e\": [{\"DR\": 10.799999999999999, \"PHIE\": 0.01, \"SW\": \"SW 100%\"}], \"data-7f00348e31915238499a48b481a5212e\": [{\"DR\": 16.13844843395687, \"PHIE\": 0.01, \"SW\": \"SW 80%\"}, {\"DR\": 0.16138448433956873, \"PHIE\": 1.0, \"SW\": \"SW 80%\"}], \"data-8e834cbc588910f5108cbba891cc118b\": [{\"DR\": 16.13844843395687, \"PHIE\": 0.01, \"SW\": \"SW 80%\"}], \"data-f7b871e06ce5bda56b49aaf128d3bcd3\": [{\"DR\": 27.086413543423028, \"PHIE\": 0.01, \"SW\": \"SW 60%\"}, {\"DR\": 0.27086413543423027, \"PHIE\": 1.0, \"SW\": \"SW 60%\"}], \"data-379b5747ceec395fca76e25ee2608ad0\": [{\"DR\": 27.086413543423028, \"PHIE\": 0.01, \"SW\": \"SW 60%\"}], \"data-47382a7f3c816efe5978b6327717095e\": [{\"DR\": 56.197341499626425, \"PHIE\": 0.01, \"SW\": \"SW 40%\"}, {\"DR\": 0.5619734149962643, \"PHIE\": 1.0, \"SW\": \"SW 40%\"}], \"data-a7e18e1ebfff30cd22a38d9e0ea67996\": [{\"DR\": 56.197341499626425, \"PHIE\": 0.01, \"SW\": \"SW 40%\"}], \"data-b542ae99b8e90ee25ca37c424956903b\": [{\"DR\": 195.6905091929778, \"PHIE\": 0.01, \"SW\": \"SW 20%\"}, {\"DR\": 1.956905091929778, \"PHIE\": 1.0, \"SW\": \"SW 20%\"}], \"data-b68a1e50fcee511e864a3fd316def36c\": [{\"DR\": 195.6905091929778, \"PHIE\": 0.01, \"SW\": \"SW 20%\"}]}}, {\"mode\": \"vega-lite\"});\n",
       "</script>"
      ],
      "text/plain": [
       "alt.LayerChart(...)"
      ]
     },
     "execution_count": 36,
     "metadata": {},
     "output_type": "execute_result"
    }
   ],
   "source": [
    "from src.data_vis.interpretPlot import pickett_plot\n",
    "\n",
    "rwa_input = 0.12\n",
    "\n",
    "# pickett_plot(\n",
    "#     calculation_data,\n",
    "#     depth_start=depth_start,\n",
    "#     depth_end=depth_end,\n",
    "#     vcl_limit=0.5,\n",
    "#     a=a,\n",
    "#     rwa=rwa_input,\n",
    "#     m=m,\n",
    "#     n=n,\n",
    "#     z=\"VCL\",\n",
    "# )\n",
    "\n",
    "pickett_plot(calculation_data_copy, depth_start=depth_start, depth_end=depth_end, x_range=[0.1, 1000], y_range=[0.01, 1], vcl_limit = 0.5, a = a, rwa = rwa_input, m = m, n = n, z = \"VCL\")\n"
   ]
  },
  {
   "cell_type": "code",
   "execution_count": null,
   "id": "f687edd2",
   "metadata": {},
   "outputs": [],
   "source": [
    "Rw = 0.12  # best Water resistivity based on picket plot"
   ]
  },
  {
   "cell_type": "markdown",
   "id": "f5e1d427",
   "metadata": {},
   "source": [
    "The outcomes obtained from the Pickett plot indicate the presence of distinct intervals within two zones, warranting separate interpretation and analysis. To initiate the process, we will select an appropriate value for Rwa and utilize the Archie equation to compute the Sw curve.\n",
    "#\n",
    "Next, proceed to select the water resistivity, denoted as rwa. We will create a Pickett chart by plotting Resistivity against Porosity. To curate the data for this plot, focus exclusively on the reservoir formations while excluding the shaly intervals. This can be accomplished by adjusting the vcl_limit variable, which represents the volume of clay."
   ]
  },
  {
   "cell_type": "markdown",
   "id": "9dbadc66",
   "metadata": {},
   "source": [
    "#### **8.2.1. Define the Thermal Gradient for Waxman-Smits Water Saturation Calculation**"
   ]
  },
  {
   "cell_type": "code",
   "execution_count": null,
   "id": "2564abd0",
   "metadata": {},
   "outputs": [],
   "source": [
    "# Geothermal Gradient\n",
    "mid_perf = 13950  # TVD\n",
    "BHT_mid_perf = 192  # Fahrenheit\n",
    "T_surf = 60  # Fahrenheit\n",
    "T_gradient = (BHT_mid_perf - T_surf) / (mid_perf)  # Fahrenheit/ft\n",
    "\n",
    "# Create new column 'CEC' and 'T' for SWwaxman Calc\n",
    "calculation_data[\"CEC\"] = (\n",
    "    -47.619 * calculation_data[\"VCL\"] ** 2.0 + 61.429 * calculation_data[\"VCL\"]\n",
    ")\n",
    "calculation_data[\"T\"] = T_surf + T_gradient * data[\"DEPT\"]"
   ]
  },
  {
   "cell_type": "markdown",
   "id": "145225c5",
   "metadata": {},
   "source": [
    "#### **8.1.3. Calculation of the Water Saturation**\n",
    "and call it in order to have the result of saturation Swa. Clip the results between (0,1)."
   ]
  },
  {
   "cell_type": "code",
   "execution_count": null,
   "id": "81479ef9",
   "metadata": {},
   "outputs": [],
   "source": [
    "len(calculation_data.RW)"
   ]
  },
  {
   "cell_type": "code",
   "execution_count": null,
   "id": "164a2444",
   "metadata": {},
   "outputs": [],
   "source": [
    "from src.data_calc.swCalc import (\n",
    "    sw_indonesia,\n",
    "    sw_archie,\n",
    "    sw_simandoux,\n",
    "    sw_waxman,\n",
    "    sw_waxman_vectorized,\n",
    ")\n",
    "\n",
    "calculation_data[\"SWarchie\"] = sw_archie(\n",
    "    Rw, data.DR, calculation_data.PHIE, a, m, n\n",
    ").clip(0, 1)\n",
    "\n",
    "calculation_data[\"SWsimandoux\"] = sw_simandoux(\n",
    "    Rw, data.DR, data.VSH, calculation_data.PHIE, a, m, n, Rsh=100\n",
    ").clip(0, 1)\n",
    "\n",
    "calculation_data[\"SWwaxman\"] = calculation_data.apply(\n",
    "    lambda col: sw_waxman(\n",
    "        Rw,\n",
    "        col[\"CEC\"],\n",
    "        a,\n",
    "        m,\n",
    "        n,\n",
    "        col[\"T\"],\n",
    "        col.DR,\n",
    "        col.PHIE,\n",
    "    ),\n",
    "    axis=1,\n",
    ").clip(0, 1)\n",
    "\n",
    "calculation_data[\"SWindonesia\"] = sw_indonesia(\n",
    "    Rw, data.DR, calculation_data.PHIE, a, m, n, calculation_data.VCL, rsh=100\n",
    ").clip(0, 1)"
   ]
  },
  {
   "cell_type": "markdown",
   "id": "c81ce0d5",
   "metadata": {},
   "source": [
    "## **Bulk volume water Calc**"
   ]
  },
  {
   "cell_type": "code",
   "execution_count": null,
   "id": "33e631c7",
   "metadata": {},
   "outputs": [],
   "source": [
    "calculation_data[\"BVW\"] = calculation_data[\"SWarchie\"] * calculation_data[\"PHIE\"]\n",
    "calculation_data[\"matrix\"] = 1 - calculation_data[\"VCL\"] - calculation_data[\"PHIE\"]"
   ]
  },
  {
   "cell_type": "markdown",
   "id": "1abb2c52",
   "metadata": {},
   "source": [
    "## **Choose best SW**"
   ]
  },
  {
   "cell_type": "code",
   "execution_count": null,
   "id": "51cc3cc7",
   "metadata": {},
   "outputs": [],
   "source": [
    "custom_sw = [\"SWsimandoux\", \"SWarchie\", \"SWindonesia\", \"SWwaxman\"]\n",
    "units = [\"v.v\" for i in range(len(custom_data))]\n",
    "custom_plot(calculation_data, depth_start, depth_end, custom_sw, units)"
   ]
  },
  {
   "cell_type": "code",
   "execution_count": null,
   "id": "1a9b76e8",
   "metadata": {},
   "outputs": [],
   "source": [
    "from src.data_calc.permCalc import perm_timur\n",
    "\n",
    "calculation_data[\"PERMtimur\"] = calculation_data.apply(\n",
    "    lambda row: perm_timur(row[\"PHIE\"], row[\"SWarchie\"]), axis=1\n",
    ")"
   ]
  },
  {
   "cell_type": "markdown",
   "id": "8e79e6ab",
   "metadata": {},
   "source": [
    "## **Interpretation Plot**"
   ]
  },
  {
   "cell_type": "code",
   "execution_count": null,
   "id": "7830e780",
   "metadata": {},
   "outputs": [],
   "source": [
    "from src.data_vis.interpretPlot import interpretation_plot\n",
    "\n",
    "NPHI_max = 100\n",
    "NPHI_min = 0\n",
    "interpretation_plot(\n",
    "    calculation_data,\n",
    "    depth_start=depth_start,\n",
    "    depth_end=depth_end,\n",
    "    traject1={\n",
    "        \"data\": [\"GR\"],\n",
    "        \"intervals\": [(0, 100)],\n",
    "        \"scales\": [\"linear\"],\n",
    "        \"labels\": [\"GR [API]\"],\n",
    "        \"positions\": [0],\n",
    "        \"colors\": [\"green\"],\n",
    "    },\n",
    "    traject2={\n",
    "        \"data\": [\"DR\", \"MR\", \"SR\"],\n",
    "        \"intervals\": [(0.1, 10), (0.1, 10), (0.1, 10)],\n",
    "        \"scales\": [\"log\", \"log\", \"log\"],\n",
    "        \"labels\": [\"DR[omh.m]\", \"MR[ohm.m]\", \"SR[ohm.m]\"],\n",
    "        \"positions\": [80, 40, 0],\n",
    "        \"colors\": [\"black\", \"purple\", \"red\"],\n",
    "    },\n",
    "    traject3={\n",
    "        \"data\": [\"RHOB\", \"NPHI\"],\n",
    "        \"intervals\": [(0, 2.75), (1.05, -0.15)],\n",
    "        \"scales\": [\"linear\", \"linear\"],\n",
    "        \"labels\": [\"RHOB[g/cc]\", \"NPHI[unit]\"],\n",
    "        \"positions\": [40, 0],\n",
    "        \"colors\": [\"red\", \"green\"],\n",
    "    },\n",
    "    traject4={\n",
    "        \"data\": [\"SWarchie\", \"SWsimandoux\"],\n",
    "        \"intervals\": [(0, 1), (0, 1)],\n",
    "        \"scales\": [\"linear\", \"linear\"],\n",
    "        \"labels\": [\"Archie[v.v]\", \"Simandoux[v.v]\"],\n",
    "        \"positions\": [0, 40],\n",
    "        \"colors\": [\"black\", \"magenta\"],\n",
    "    },\n",
    "    traject5={\n",
    "        \"data\": [\"PERMtimur\"],\n",
    "        \"intervals\": [(0, 1)],\n",
    "        \"scales\": [\"linear\"],\n",
    "        \"labels\": [\"perm[unit]\"],\n",
    "        \"positions\": [0],\n",
    "        \"colors\": [\"violet\"],\n",
    "    },\n",
    "    traject6={\n",
    "        \"data\": [\"BVW\", \"PHIE\"],\n",
    "        \"intervals\": [(0, 0.1), (0, 0.1)],\n",
    "        \"scales\": [\"linear\", \"linear\"],\n",
    "        \"labels\": [\"BVW[unit]\", \"PHIE[unit]\"],\n",
    "        \"positions\": [40, 0],\n",
    "        \"colors\": [\"red\", \"black\"],\n",
    "    },\n",
    "    traject7={\n",
    "        \"data\": [\"PHIE\", \"VCL\"],\n",
    "        \"intervals\": [(1, 0), (1, 0)],\n",
    "        \"scales\": [\"linear\", \"linear\"],\n",
    "        \"labels\": [\"PHIE[unit]\", \"VCL\"],\n",
    "        \"positions\": [0, 40],\n",
    "        \"colors\": [\"green\", \"red\"],\n",
    "    },\n",
    "    fill=True,\n",
    ")"
   ]
  },
  {
   "cell_type": "markdown",
   "id": "6efa33d3",
   "metadata": {},
   "source": [
    "## **Save the all of the output to xlsx files**"
   ]
  },
  {
   "cell_type": "code",
   "execution_count": null,
   "id": "8e5d9ea4",
   "metadata": {},
   "outputs": [],
   "source": [
    "# Specify the file path where you want to save the Excel file\n",
    "file_path = \"../results/output1.xlsx\"\n",
    "\n",
    "# Export the DataFrame to an Excel file\n",
    "calculation_data.to_excel(\n",
    "    file_path, index=False\n",
    ")  # Set index=False to exclude the index column\n",
    "\n",
    "print(f\"DataFrame has been exported to {file_path}\")"
   ]
  },
  {
   "cell_type": "markdown",
   "id": "8b284f53",
   "metadata": {},
   "source": [
    "## **Other crossplot**"
   ]
  },
  {
   "cell_type": "code",
   "execution_count": null,
   "id": "fee6ddf6",
   "metadata": {},
   "outputs": [],
   "source": [
    "from src.data_vis.distPlot import crossplot\n",
    "\n",
    "crossplot(calculation_data, \"NPHI\", \"RHOB\", \"GR\", \"frac\", \"g/cc\", \"API\")"
   ]
  },
  {
   "cell_type": "code",
   "execution_count": null,
   "id": "d2ef731d",
   "metadata": {},
   "outputs": [],
   "source": []
  }
 ],
 "metadata": {
  "kernelspec": {
   "display_name": ".venv",
   "language": "python",
   "name": "python3"
  },
  "language_info": {
   "codemirror_mode": {
    "name": "ipython",
    "version": 3
   },
   "file_extension": ".py",
   "mimetype": "text/x-python",
   "name": "python",
   "nbconvert_exporter": "python",
   "pygments_lexer": "ipython3",
   "version": "3.11.9"
  }
 },
 "nbformat": 4,
 "nbformat_minor": 5
}
